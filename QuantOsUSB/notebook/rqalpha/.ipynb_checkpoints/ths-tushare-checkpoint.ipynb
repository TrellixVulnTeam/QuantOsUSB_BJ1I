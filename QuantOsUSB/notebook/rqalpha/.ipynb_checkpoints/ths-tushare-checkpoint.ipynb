{
 "cells": [
  {
   "cell_type": "code",
   "execution_count": 1,
   "metadata": {},
   "outputs": [],
   "source": [
    "from matplotlib import rcParams\n",
    "import matplotlib.pyplot as plt\n",
    "import numpy as np\n",
    "\n",
    "np.seterr(all='ignore')\n",
    "rcParams['figure.figsize'] = (14, 6)"
   ]
  },
  {
   "cell_type": "code",
   "execution_count": 2,
   "metadata": {},
   "outputs": [
    {
     "ename": "ModuleNotFoundError",
     "evalue": "No module named 'funcat'",
     "output_type": "error",
     "traceback": [
      "\u001b[0;31m---------------------------------------------------------------------------\u001b[0m",
      "\u001b[0;31mModuleNotFoundError\u001b[0m                       Traceback (most recent call last)",
      "\u001b[0;32m<ipython-input-2-5f914908e510>\u001b[0m in \u001b[0;36m<module>\u001b[0;34m\u001b[0m\n\u001b[0;32m----> 1\u001b[0;31m \u001b[0;32mfrom\u001b[0m \u001b[0mfuncat\u001b[0m \u001b[0;32mimport\u001b[0m \u001b[0;34m*\u001b[0m\u001b[0;34m\u001b[0m\u001b[0m\n\u001b[0m\u001b[1;32m      2\u001b[0m \u001b[0;32mfrom\u001b[0m \u001b[0mpytdx\u001b[0m \u001b[0;32mimport\u001b[0m \u001b[0;34m*\u001b[0m\u001b[0;34m\u001b[0m\u001b[0m\n\u001b[1;32m      3\u001b[0m \u001b[0;32mfrom\u001b[0m \u001b[0mtushare\u001b[0m \u001b[0;32mimport\u001b[0m \u001b[0;34m*\u001b[0m\u001b[0;34m\u001b[0m\u001b[0m\n\u001b[1;32m      4\u001b[0m \u001b[0;32mfrom\u001b[0m \u001b[0mrqalpha\u001b[0m \u001b[0;32mimport\u001b[0m \u001b[0;34m*\u001b[0m\u001b[0;34m\u001b[0m\u001b[0m\n",
      "\u001b[0;31mModuleNotFoundError\u001b[0m: No module named 'funcat'"
     ]
    }
   ],
   "source": [
    "from funcat import *\n",
    "from pytdx import *\n",
    "from tushare import *\n",
    "from rqalpha import *"
   ]
  },
  {
   "cell_type": "code",
   "execution_count": 3,
   "metadata": {
    "scrolled": true
   },
   "outputs": [
    {
     "name": "stdout",
     "output_type": "stream",
     "text": [
      "读取当日时间格式n1 2018-11-17\n",
      "读取当日时间格式n2 20181117\n",
      "读取前一日时间格式n3 2018-11-16\n",
      "读取当日时间格式n4 20181117\n",
      "读取当日时间格式n5 2018-11-17T21:09:23.487875\n",
      "手动设定选股开始时间格式n8 20180201\n",
      "手动设定选股结束时间格式n9 20180201\n",
      "手动设定数据更新设定起始时间格式n10 20160101\n",
      "设定股票代码 000001.XSHG 603377.XSHG\n"
     ]
    }
   ],
   "source": [
    "import time\n",
    "import datetime\n",
    "n1 = (time.strftime(\"20%y-%m-%d\"))## 20yy-mm-dd格式，输出当日日期\n",
    "n2 = (time.strftime(\"20%y%m%d\"))## 20yymmdd格式，输出当日日期\n",
    "#print (time.strftime(\"20%y-%m-%d\")) ## dd/mm/yyyy格式，输出当日日期\n",
    "#print (time.strftime(\"20%y%m%d\"))\n",
    "def getYesterday(): \n",
    "    today=datetime.date.today() \n",
    "    oneday=datetime.timedelta(days=1) \n",
    "    yesterday=today-oneday  \n",
    "    return yesterday\n",
    "n3 = (getYesterday())# 输出前一天日期\n",
    "i = datetime.datetime.now()#当前日期\n",
    "n4 = (\"%s%s%s\" % (i.year, i.month, i.day) )\n",
    "n5 = (\"%s\" % i.isoformat() )\n",
    "print (\"读取当日时间格式n1\",n1) #当日时间格式：yyyy-mm-dd\n",
    "print (\"读取当日时间格式n2\",n2) #当日时间格式：yyyymmdd\n",
    "print (\"读取前一日时间格式n3\",n3) #前日时间格式：yyyy-mm-dd\n",
    "print (\"读取当日时间格式n4\",n4) #当日时间格式：yyyymmdd\n",
    "print (\"读取当日时间格式n5\",n5) #当日时间格式：yyyy-mm-dd:...\n",
    "n8=\"20180201\"#开始时间\n",
    "print (\"手动设定选股开始时间格式n8\",n8)\n",
    "n9=\"20180201\"#结束时间\n",
    "print (\"手动设定选股结束时间格式n9\",n9)\n",
    "n10=\"20160101\"#设定起始时间\n",
    "print (\"手动设定数据更新设定起始时间格式n10\",n10)\n",
    "x1=\"000001.XSHG\"\n",
    "x2=\"603377.XSHG\"\n",
    "print (\"设定股票代码\",x1,x2)"
   ]
  },
  {
   "cell_type": "code",
   "execution_count": 4,
   "metadata": {},
   "outputs": [
    {
     "ename": "ModuleNotFoundError",
     "evalue": "No module named 'funcat'",
     "output_type": "error",
     "traceback": [
      "\u001b[0;31m---------------------------------------------------------------------------\u001b[0m",
      "\u001b[0;31mModuleNotFoundError\u001b[0m                       Traceback (most recent call last)",
      "\u001b[0;32m<ipython-input-4-4558ae7d8e2f>\u001b[0m in \u001b[0;36m<module>\u001b[0;34m\u001b[0m\n\u001b[0;32m----> 1\u001b[0;31m \u001b[0;32mfrom\u001b[0m \u001b[0mfuncat\u001b[0m\u001b[0;34m.\u001b[0m\u001b[0mdata\u001b[0m\u001b[0;34m.\u001b[0m\u001b[0mtushare_backend\u001b[0m \u001b[0;32mimport\u001b[0m \u001b[0mTushareDataBackend\u001b[0m\u001b[0;34m\u001b[0m\u001b[0m\n\u001b[0m\u001b[1;32m      2\u001b[0m \u001b[0;32mfrom\u001b[0m \u001b[0mfuncat\u001b[0m\u001b[0;34m.\u001b[0m\u001b[0mdata\u001b[0m\u001b[0;34m.\u001b[0m\u001b[0mrqalpha_data_backend\u001b[0m \u001b[0;32mimport\u001b[0m \u001b[0mRQAlphaDataBackend\u001b[0m\u001b[0;34m\u001b[0m\u001b[0m\n\u001b[1;32m      3\u001b[0m \u001b[0;34m\u001b[0m\u001b[0m\n\u001b[1;32m      4\u001b[0m \u001b[0mbackend\u001b[0m \u001b[0;34m=\u001b[0m \u001b[0;34m\"tushare\"\u001b[0m\u001b[0;34m\u001b[0m\u001b[0m\n\u001b[1;32m      5\u001b[0m \u001b[0;34m\u001b[0m\u001b[0m\n",
      "\u001b[0;31mModuleNotFoundError\u001b[0m: No module named 'funcat'"
     ]
    }
   ],
   "source": [
    "from funcat.data.tushare_backend import TushareDataBackend\n",
    "from funcat.data.rqalpha_data_backend import RQAlphaDataBackend\n",
    "\n",
    "backend = \"tushare\"\n",
    "\n",
    "if backend == \"rqalpha\":\n",
    "    set_data_backend(RQAlphaDataBackend(\"~/.rqalpha/bundle\"))\n",
    "elif backend == \"tushare\":\n",
    "    set_data_backend(TushareDataBackend())\n",
    "\n",
    "set_start_date(n10)\n",
    "S(x1)  # 设置当前关注股票\n",
    "T(n9)   # 设置当前观察日期"
   ]
  },
  {
   "cell_type": "code",
   "execution_count": 5,
   "metadata": {},
   "outputs": [],
   "source": [
    " #import RQAlpha update_bundle"
   ]
  },
  {
   "cell_type": "code",
   "execution_count": 6,
   "metadata": {},
   "outputs": [
    {
     "ename": "NameError",
     "evalue": "name 'O' is not defined",
     "output_type": "error",
     "traceback": [
      "\u001b[0;31m---------------------------------------------------------------------------\u001b[0m",
      "\u001b[0;31mNameError\u001b[0m                                 Traceback (most recent call last)",
      "\u001b[0;32m<ipython-input-6-9b8adcf12f49>\u001b[0m in \u001b[0;36m<module>\u001b[0;34m\u001b[0m\n\u001b[0;32m----> 1\u001b[0;31m \u001b[0mprint\u001b[0m \u001b[0;34m(\u001b[0m\u001b[0;34m\"打印 开盘 最高 最低 收盘 成交量\"\u001b[0m\u001b[0;34m,\u001b[0m\u001b[0mO\u001b[0m\u001b[0;34m,\u001b[0m \u001b[0mH\u001b[0m\u001b[0;34m,\u001b[0m \u001b[0mL\u001b[0m\u001b[0;34m,\u001b[0m \u001b[0mC\u001b[0m\u001b[0;34m,\u001b[0m \u001b[0mV\u001b[0m\u001b[0;34m)\u001b[0m  \u001b[0;31m# 打印 Open High Low Close\u001b[0m\u001b[0;34m\u001b[0m\u001b[0m\n\u001b[0m\u001b[1;32m      2\u001b[0m \u001b[0mprint\u001b[0m \u001b[0;34m(\u001b[0m\u001b[0;34m\"当天涨幅\"\u001b[0m\u001b[0;34m,\u001b[0m\u001b[0mC\u001b[0m \u001b[0;34m/\u001b[0m \u001b[0mC\u001b[0m\u001b[0;34m[\u001b[0m\u001b[0;36m1\u001b[0m\u001b[0;34m]\u001b[0m \u001b[0;34m-\u001b[0m \u001b[0;36m1\u001b[0m\u001b[0;34m)\u001b[0m  \u001b[0;31m# 当天涨幅\u001b[0m\u001b[0;34m\u001b[0m\u001b[0m\n\u001b[1;32m      3\u001b[0m \u001b[0mprint\u001b[0m \u001b[0;34m(\u001b[0m\u001b[0;34m\"打印60日均线\"\u001b[0m\u001b[0;34m,\u001b[0m\u001b[0mMA\u001b[0m\u001b[0;34m(\u001b[0m\u001b[0mC\u001b[0m\u001b[0;34m,\u001b[0m \u001b[0;36m60\u001b[0m\u001b[0;34m)\u001b[0m\u001b[0;34m)\u001b[0m  \u001b[0;31m# 打印60日均线\u001b[0m\u001b[0;34m\u001b[0m\u001b[0m\n\u001b[1;32m      4\u001b[0m \u001b[0mprint\u001b[0m \u001b[0;34m(\u001b[0m\u001b[0;34m\"判断收盘价是否大于60日均线\"\u001b[0m\u001b[0;34m,\u001b[0m\u001b[0mC\u001b[0m \u001b[0;34m>\u001b[0m \u001b[0mMA\u001b[0m\u001b[0;34m(\u001b[0m\u001b[0mC\u001b[0m\u001b[0;34m,\u001b[0m \u001b[0;36m60\u001b[0m\u001b[0;34m)\u001b[0m\u001b[0;34m)\u001b[0m  \u001b[0;31m# 判断收盘价是否大于60日均线\u001b[0m\u001b[0;34m\u001b[0m\u001b[0m\n\u001b[1;32m      5\u001b[0m \u001b[0mprint\u001b[0m \u001b[0;34m(\u001b[0m\u001b[0;34m\"30日最高价\"\u001b[0m\u001b[0;34m,\u001b[0m\u001b[0mHHV\u001b[0m\u001b[0;34m(\u001b[0m\u001b[0mH\u001b[0m\u001b[0;34m,\u001b[0m \u001b[0;36m30\u001b[0m\u001b[0;34m)\u001b[0m\u001b[0;34m)\u001b[0m  \u001b[0;31m# 30日最高价\u001b[0m\u001b[0;34m\u001b[0m\u001b[0m\n",
      "\u001b[0;31mNameError\u001b[0m: name 'O' is not defined"
     ]
    }
   ],
   "source": [
    "print (\"打印 开盘 最高 最低 收盘 成交量\",O, H, L, C, V)  # 打印 Open High Low Close\n",
    "print (\"当天涨幅\",C / C[1] - 1)  # 当天涨幅\n",
    "print (\"打印60日均线\",MA(C, 60))  # 打印60日均线\n",
    "print (\"判断收盘价是否大于60日均线\",C > MA(C, 60))  # 判断收盘价是否大于60日均线\n",
    "print (\"30日最高价\",HHV(H, 30))  # 30日最高价\n",
    "print (\"最近30日，收盘价 Close 大于60日均线的天数\",COUNT(C > MA(C, 60), 30))  # 最近30日，收盘价 Close 大于60日均线的天数\n",
    "print (\"10日均线上穿\",CROSS(MA(C, 10), MA(C, 20)))  # 10日均线上穿\n",
    "print (\"最近10天收阳线的天数\",COUNT(C > O, 10))  # 最近10天收阳线的天数\n",
    "print (\"最近60天K线实体的最高价\",HHV(MAX(O, C), 60))  # 最近60天K线实体的最高价\n",
    "print (\"5日均线上穿10日均线\",CROSS(MA(C, 5), MA(C, 10)))  # 5日均线上穿10日均线\n"
   ]
  },
  {
   "cell_type": "code",
   "execution_count": 8,
   "metadata": {},
   "outputs": [
    {
     "ename": "NameError",
     "evalue": "name 'MA' is not defined",
     "output_type": "error",
     "traceback": [
      "\u001b[0;31m---------------------------------------------------------------------------\u001b[0m",
      "\u001b[0;31mNameError\u001b[0m                                 Traceback (most recent call last)",
      "\u001b[0;32m<ipython-input-8-5add117e8ec2>\u001b[0m in \u001b[0;36m<module>\u001b[0;34m\u001b[0m\n\u001b[1;32m      1\u001b[0m \u001b[0;31m#0x02 均线金叉死叉\u001b[0m\u001b[0;34m\u001b[0m\u001b[0;34m\u001b[0m\u001b[0m\n\u001b[1;32m      2\u001b[0m \u001b[0max\u001b[0m \u001b[0;34m=\u001b[0m \u001b[0mplt\u001b[0m\u001b[0;34m.\u001b[0m\u001b[0msubplot\u001b[0m\u001b[0;34m(\u001b[0m\u001b[0;34m)\u001b[0m\u001b[0;34m\u001b[0m\u001b[0m\n\u001b[0;32m----> 3\u001b[0;31m \u001b[0mma1\u001b[0m \u001b[0;34m=\u001b[0m \u001b[0mMA\u001b[0m\u001b[0;34m(\u001b[0m\u001b[0mL\u001b[0m\u001b[0;34m,\u001b[0m\u001b[0;36m1\u001b[0m\u001b[0;34m)\u001b[0m\u001b[0;34m\u001b[0m\u001b[0m\n\u001b[0m\u001b[1;32m      4\u001b[0m \u001b[0mma3\u001b[0m \u001b[0;34m=\u001b[0m \u001b[0mMA\u001b[0m\u001b[0;34m(\u001b[0m\u001b[0mH\u001b[0m\u001b[0;34m,\u001b[0m\u001b[0;36m3\u001b[0m\u001b[0;34m)\u001b[0m\u001b[0;34m\u001b[0m\u001b[0m\n\u001b[1;32m      5\u001b[0m \u001b[0mma5\u001b[0m \u001b[0;34m=\u001b[0m \u001b[0mMA\u001b[0m\u001b[0;34m(\u001b[0m\u001b[0mH\u001b[0m\u001b[0;34m,\u001b[0m\u001b[0;36m5\u001b[0m\u001b[0;34m)\u001b[0m\u001b[0;34m\u001b[0m\u001b[0m\n",
      "\u001b[0;31mNameError\u001b[0m: name 'MA' is not defined"
     ]
    },
    {
     "data": {
      "image/png": "[encoded data removed]",
      "text/plain": [
       "<Figure size 432x288 with 1 Axes>"
      ]
     },
     "metadata": {
      "needs_background": "light"
     },
     "output_type": "display_data"
    }
   ],
   "source": [
    "#0x02 均线金叉死叉\n",
    "ax = plt.subplot()\n",
    "ma1 = MA(L,1)\n",
    "ma3 = MA(H,3)\n",
    "ma5 = MA(H,5)\n",
    "ma7 = MA(H,7)\n",
    "ma11 = MA(H,11)\n",
    "ma22 = MA(H,22)\n",
    "ma66 = MA(H,66)\n",
    "buy_signal = CROSS(ma1, ma7)\n",
    "sell_signal = CROSS(ma7, ma1)\n",
    "plt.plot(C.series, label=\"H\", linewidth=2)\n",
    "plt.plot(ma1.series, label=\"ma1\", alpha=0.7)\n",
    "plt.plot(ma3.series, label=\"ma3\", alpha=0.7)\n",
    "plt.plot(ma5.series, label=\"ma5\", alpha=0.7)\n",
    "plt.plot(ma7.series, label=\"ma7\", alpha=0.7)\n",
    "plt.plot(ma11.series, label=\"ma11\", alpha=0.7)\n",
    "plt.plot(ma22.series, label=\"ma22\", alpha=0.7)\n",
    "plt.plot(ma66.series, label=\"ma66\", alpha=0.7)\n",
    "plt.plot(np.where(buy_signal.series)[0], C.series[np.where(buy_signal.series)[0]], \"^\", label=\"buy\", markersize=12, color=\"red\")\n",
    "plt.plot(np.where(sell_signal.series)[0], C.series[np.where(sell_signal.series)[0]], \"v\", label=\"sell\", markersize=12, color=\"green\")\n",
    "plt.legend(loc=\"best\")\n",
    "plt.show()"
   ]
  },
  {
   "cell_type": "code",
   "execution_count": 9,
   "metadata": {},
   "outputs": [
    {
     "ename": "NameError",
     "evalue": "name 'CLOSE' is not defined",
     "output_type": "error",
     "traceback": [
      "\u001b[0;31m---------------------------------------------------------------------------\u001b[0m",
      "\u001b[0;31mNameError\u001b[0m                                 Traceback (most recent call last)",
      "\u001b[0;32m<ipython-input-9-a8ca80c66acb>\u001b[0m in \u001b[0;36m<module>\u001b[0;34m\u001b[0m\n\u001b[1;32m      1\u001b[0m \u001b[0mN\u001b[0m\u001b[0;34m,\u001b[0m \u001b[0mM1\u001b[0m\u001b[0;34m,\u001b[0m \u001b[0mM2\u001b[0m \u001b[0;34m=\u001b[0m \u001b[0;36m27\u001b[0m\u001b[0;34m,\u001b[0m \u001b[0;36m9\u001b[0m\u001b[0;34m,\u001b[0m \u001b[0;36m3\u001b[0m\u001b[0;34m\u001b[0m\u001b[0m\n\u001b[0;32m----> 2\u001b[0;31m \u001b[0mRSV\u001b[0m \u001b[0;34m=\u001b[0m \u001b[0;34m(\u001b[0m\u001b[0mCLOSE\u001b[0m \u001b[0;34m-\u001b[0m \u001b[0mLLV\u001b[0m\u001b[0;34m(\u001b[0m\u001b[0mLOW\u001b[0m\u001b[0;34m,\u001b[0m \u001b[0mN\u001b[0m\u001b[0;34m)\u001b[0m\u001b[0;34m)\u001b[0m \u001b[0;34m/\u001b[0m \u001b[0;34m(\u001b[0m\u001b[0mHHV\u001b[0m\u001b[0;34m(\u001b[0m\u001b[0mHIGH\u001b[0m\u001b[0;34m,\u001b[0m \u001b[0mN\u001b[0m\u001b[0;34m)\u001b[0m \u001b[0;34m-\u001b[0m \u001b[0mLLV\u001b[0m\u001b[0;34m(\u001b[0m\u001b[0mLOW\u001b[0m\u001b[0;34m,\u001b[0m \u001b[0mN\u001b[0m\u001b[0;34m)\u001b[0m\u001b[0;34m)\u001b[0m \u001b[0;34m*\u001b[0m \u001b[0;36m100\u001b[0m\u001b[0;34m\u001b[0m\u001b[0m\n\u001b[0m\u001b[1;32m      3\u001b[0m \u001b[0mK\u001b[0m \u001b[0;34m=\u001b[0m \u001b[0mEMA\u001b[0m\u001b[0;34m(\u001b[0m\u001b[0mRSV\u001b[0m\u001b[0;34m,\u001b[0m \u001b[0;34m(\u001b[0m\u001b[0mM1\u001b[0m \u001b[0;34m*\u001b[0m \u001b[0;36m2\u001b[0m \u001b[0;34m-\u001b[0m \u001b[0;36m1\u001b[0m\u001b[0;34m)\u001b[0m\u001b[0;34m)\u001b[0m\u001b[0;34m\u001b[0m\u001b[0m\n\u001b[1;32m      4\u001b[0m \u001b[0mD\u001b[0m \u001b[0;34m=\u001b[0m \u001b[0mEMA\u001b[0m\u001b[0;34m(\u001b[0m\u001b[0mK\u001b[0m\u001b[0;34m,\u001b[0m \u001b[0;34m(\u001b[0m\u001b[0mM2\u001b[0m \u001b[0;34m*\u001b[0m \u001b[0;36m2\u001b[0m \u001b[0;34m-\u001b[0m \u001b[0;36m1\u001b[0m\u001b[0;34m)\u001b[0m\u001b[0;34m)\u001b[0m\u001b[0;34m\u001b[0m\u001b[0m\n\u001b[1;32m      5\u001b[0m \u001b[0mJ\u001b[0m \u001b[0;34m=\u001b[0m \u001b[0mK\u001b[0m \u001b[0;34m*\u001b[0m \u001b[0;36m3\u001b[0m \u001b[0;34m-\u001b[0m \u001b[0mD\u001b[0m \u001b[0;34m*\u001b[0m \u001b[0;36m2\u001b[0m\u001b[0;34m\u001b[0m\u001b[0m\n",
      "\u001b[0;31mNameError\u001b[0m: name 'CLOSE' is not defined"
     ]
    }
   ],
   "source": [
    "N, M1, M2 = 27, 9, 3\n",
    "RSV = (CLOSE - LLV(LOW, N)) / (HHV(HIGH, N) - LLV(LOW, N)) * 100\n",
    "K = EMA(RSV, (M1 * 2 - 1))\n",
    "D = EMA(K, (M2 * 2 - 1))\n",
    "J = K * 3 - D * 2\n",
    "print(K, D, J)\n",
    "f, (ax1, ax2,) = plt.subplots(2, 1)\n",
    "ax1.plot(L.series, label=\"L\")\n",
    "ax1.plot(MA(L, 7).series, label=\"ma7\")\n",
    "ax1.plot(MA(H, 11).series, label=\"ma11\")\n",
    "ax1.plot(MA(H, 22).series, label=\"ma22\")\n",
    "ax1.plot(MA(H, 66).series, label=\"ma66\")\n",
    "ax1.set_xlim(22)\n",
    "ax2.plot(K.series, label=\"K\", linewidth=2)\n",
    "ax2.plot(D.series, label=\"D\", alpha=0.7)\n",
    "ax2.plot(J.series, label=\"J\", alpha=0.7)\n",
    "ax2.set_xlim(22)\n",
    "buy_signal = CROSS(J, K)\n",
    "sell_signal = CROSS(K, J)\n",
    "plt.plot(np.where(buy_signal.series)[0], K.series[np.where(buy_signal.series)[0]], \"^\", label=\"buy\", markersize=12, color=\"red\")\n",
    "plt.plot(np.where(sell_signal.series)[0], J.series[np.where(sell_signal.series)[0]], \"v\", label=\"sell\", markersize=12, color=\"green\")\n",
    "plt.legend(loc=\"best\")\n",
    "plt.show()\n"
   ]
  },
  {
   "cell_type": "code",
   "execution_count": 10,
   "metadata": {},
   "outputs": [
    {
     "ename": "NameError",
     "evalue": "name 'MA' is not defined",
     "output_type": "error",
     "traceback": [
      "\u001b[0;31m---------------------------------------------------------------------------\u001b[0m",
      "\u001b[0;31mNameError\u001b[0m                                 Traceback (most recent call last)",
      "\u001b[0;32m<ipython-input-10-ad648054a998>\u001b[0m in \u001b[0;36m<module>\u001b[0;34m\u001b[0m\n\u001b[1;32m      4\u001b[0m \u001b[0mM2\u001b[0m \u001b[0;34m=\u001b[0m \u001b[0;36m50\u001b[0m\u001b[0;34m\u001b[0m\u001b[0m\n\u001b[1;32m      5\u001b[0m \u001b[0mM3\u001b[0m \u001b[0;34m=\u001b[0m \u001b[0;36m10\u001b[0m\u001b[0;34m\u001b[0m\u001b[0m\n\u001b[0;32m----> 6\u001b[0;31m \u001b[0mDDD\u001b[0m \u001b[0;34m=\u001b[0m \u001b[0mMA\u001b[0m\u001b[0;34m(\u001b[0m\u001b[0mCLOSE\u001b[0m\u001b[0;34m,\u001b[0m \u001b[0mM1\u001b[0m\u001b[0;34m)\u001b[0m \u001b[0;34m-\u001b[0m \u001b[0mMA\u001b[0m\u001b[0;34m(\u001b[0m\u001b[0mCLOSE\u001b[0m\u001b[0;34m,\u001b[0m \u001b[0mM2\u001b[0m\u001b[0;34m)\u001b[0m\u001b[0;34m\u001b[0m\u001b[0m\n\u001b[0m\u001b[1;32m      7\u001b[0m \u001b[0mAMA\u001b[0m \u001b[0;34m=\u001b[0m \u001b[0mMA\u001b[0m\u001b[0;34m(\u001b[0m\u001b[0mDDD\u001b[0m\u001b[0;34m,\u001b[0m \u001b[0mM3\u001b[0m\u001b[0;34m)\u001b[0m\u001b[0;34m\u001b[0m\u001b[0m\n\u001b[1;32m      8\u001b[0m \u001b[0mprint\u001b[0m\u001b[0;34m(\u001b[0m\u001b[0mDDD\u001b[0m\u001b[0;34m,\u001b[0m \u001b[0mAMA\u001b[0m\u001b[0;34m)\u001b[0m\u001b[0;34m\u001b[0m\u001b[0m\n",
      "\u001b[0;31mNameError\u001b[0m: name 'MA' is not defined"
     ]
    }
   ],
   "source": [
    "#0x03 DMA指标（Different of Moving Average）DMA指标（Different of Moving Average）\n",
    "#又叫平行线差指标，是目前股市分析技术指标中的一种中短期指标，它常用于大盘指数和个股的研判。\n",
    "M1 = 10\n",
    "M2 = 50\n",
    "M3 = 10\n",
    "DDD = MA(CLOSE, M1) - MA(CLOSE, M2)\n",
    "AMA = MA(DDD, M3)\n",
    "print(DDD, AMA)\n",
    "f, (ax1, ax2) = plt.subplots(2, 1)\n",
    "ax1.plot(L.series, label=\"L\")\n",
    "ax1.plot(MA(L, 7).series, label=\"ma7\")\n",
    "ax1.plot(MA(H, 11).series, label=\"ma11\")\n",
    "ax1.plot(MA(H, 22).series, label=\"ma22\")\n",
    "ax1.plot(MA(H, 66).series, label=\"ma66\")\n",
    "ax1.set_xlim(22)\n",
    "ax2.plot(DDD.series, label=\"DDD\")\n",
    "ax2.plot(AMA.series, label=\"AMA\")\n",
    "ax2.set_xlim(22)\n",
    "buy_signal = CROSS(DDD, AMA)\n",
    "sell_signal = CROSS(AMA, DDD)\n",
    "plt.plot(np.where(buy_signal.series)[0], AMA.series[np.where(buy_signal.series)[0]], \"^\", label=\"buy\", markersize=12, color=\"red\")\n",
    "plt.plot(np.where(sell_signal.series)[0], DDD.series[np.where(sell_signal.series)[0]], \"v\", label=\"sell\", markersize=12, color=\"green\")\n",
    "plt.legend(loc=\"best\")\n",
    "plt.show()\n"
   ]
  },
  {
   "cell_type": "code",
   "execution_count": null,
   "metadata": {},
   "outputs": [],
   "source": []
  },
  {
   "cell_type": "code",
   "execution_count": 11,
   "metadata": {},
   "outputs": [
    {
     "ename": "NameError",
     "evalue": "name 'select' is not defined",
     "output_type": "error",
     "traceback": [
      "\u001b[0;31m---------------------------------------------------------------------------\u001b[0m",
      "\u001b[0;31mNameError\u001b[0m                                 Traceback (most recent call last)",
      "\u001b[0;32m<ipython-input-11-ee7931d849fb>\u001b[0m in \u001b[0;36m<module>\u001b[0;34m\u001b[0m\n\u001b[1;32m      1\u001b[0m \u001b[0;31m# 选出涨停股\u001b[0m\u001b[0;34m\u001b[0m\u001b[0;34m\u001b[0m\u001b[0m\n\u001b[0;32m----> 2\u001b[0;31m select(\n\u001b[0m\u001b[1;32m      3\u001b[0m     \u001b[0;32mlambda\u001b[0m \u001b[0;34m:\u001b[0m \u001b[0mC\u001b[0m \u001b[0;34m/\u001b[0m \u001b[0mC\u001b[0m\u001b[0;34m[\u001b[0m\u001b[0;36m1\u001b[0m\u001b[0;34m]\u001b[0m \u001b[0;34m-\u001b[0m \u001b[0;36m1\u001b[0m \u001b[0;34m>=\u001b[0m \u001b[0;36m0.0995\u001b[0m\u001b[0;34m,\u001b[0m\u001b[0;34m\u001b[0m\u001b[0m\n\u001b[1;32m      4\u001b[0m     \u001b[0mstart_date\u001b[0m\u001b[0;34m=\u001b[0m\u001b[0;34m(\u001b[0m\u001b[0mn8\u001b[0m\u001b[0;34m)\u001b[0m\u001b[0;34m,\u001b[0m\u001b[0;34m\u001b[0m\u001b[0m\n\u001b[1;32m      5\u001b[0m         \u001b[0mend_date\u001b[0m\u001b[0;34m=\u001b[0m\u001b[0;34m(\u001b[0m\u001b[0mn9\u001b[0m\u001b[0;34m)\u001b[0m\u001b[0;34m,\u001b[0m\u001b[0;34m\u001b[0m\u001b[0m\n",
      "\u001b[0;31mNameError\u001b[0m: name 'select' is not defined"
     ]
    }
   ],
   "source": [
    "# 选出涨停股\n",
    "select(\n",
    "    lambda : C / C[1] - 1 >= 0.0995,\n",
    "    start_date=(n8),\n",
    "\tend_date=(n9),\n",
    ")"
   ]
  },
  {
   "cell_type": "code",
   "execution_count": null,
   "metadata": {},
   "outputs": [],
   "source": [
    "# 选出最近30天K线实体最高价最低价差7%以内，最近100天K线实体最高价最低价差25%以内，\n",
    "# 最近10天，收盘价大于60日均线的天数大于3天\n",
    "select(\n",
    "    lambda : ((HHV(MAX(C, O), 30) / LLV(MIN(C, O), 30) - 1 < 0.07)\n",
    "              & (HHV(MAX(C, O), 100) / LLV(MIN(C, O), 100) - 1 > 0.25)\n",
    "              & (COUNT(C > MA(C, 60), 10) > 3)\n",
    "             ),\n",
    "    start_date=(n8),\n",
    "\tend_date=(n9),\n",
    ")"
   ]
  },
  {
   "cell_type": "code",
   "execution_count": null,
   "metadata": {},
   "outputs": [],
   "source": [
    "# 选出最近3天每天的成交量小于20日成交量均线，最近3天最低价低于20日均线，最高价高于20日均线\n",
    "# 自定义选股回调函数\n",
    "def callback(date, order_book_id, symbol):\n",
    "    print(\"Cool, 在\", date, \"选出\", order_book_id, symbol)\n",
    "\n",
    "    \n",
    "select(\n",
    "    lambda : (EVERY(V < MA(V, 20) / 2, 3) & EVERY(L < MA(C, 20), 3) & EVERY(H > MA(C, 20), 3)),\n",
    "    start_date=(n8),\n",
    "\tend_date=(n9),\n",
    "    callback=callback,\n",
    ")"
   ]
  },
  {
   "cell_type": "code",
   "execution_count": null,
   "metadata": {},
   "outputs": [],
   "source": []
  },
  {
   "cell_type": "code",
   "execution_count": null,
   "metadata": {},
   "outputs": [],
   "source": []
  }
 ],
 "metadata": {
  "anaconda-cloud": {},
  "kernelspec": {
   "display_name": "Python 3",
   "language": "python",
   "name": "python3"
  },
  "language_info": {
   "codemirror_mode": {
    "name": "ipython",
    "version": 3
   },
   "file_extension": ".py",
   "mimetype": "text/x-python",
   "name": "python",
   "nbconvert_exporter": "python",
   "pygments_lexer": "ipython3",
   "version": "3.6.5"
  }
 },
 "nbformat": 4,
 "nbformat_minor": 1
}
