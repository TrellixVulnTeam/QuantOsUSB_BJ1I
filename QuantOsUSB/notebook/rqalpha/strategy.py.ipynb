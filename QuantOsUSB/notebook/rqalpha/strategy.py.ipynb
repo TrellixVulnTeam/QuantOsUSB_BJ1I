{
 "cells": [
  {
   "cell_type": "code",
   "execution_count": 2,
   "metadata": {},
   "outputs": [],
   "source": [
    "# -*- coding: utf-8 -*-\n",
    "import itertools\n",
    "import os\n",
    "from rqalpha.api import *\n",
    "import pandas as pd\n",
    "from rqalpha.utils.datetime_func import convert_dt_to_int\n",
    "from rqalpha import run"
   ]
  },
  {
   "cell_type": "code",
   "execution_count": null,
   "metadata": {},
   "outputs": [],
   "source": [
    "def init(context):\n",
    "    logger.info(\"init\")\n",
    "    context.s1 = \"000001.XSHE\"\n",
    "    update_universe(context.s1)\n",
    "    context.fired = False"
   ]
  },
  {
   "cell_type": "code",
   "execution_count": 1,
   "metadata": {},
   "outputs": [
    {
     "ename": "NameError",
     "evalue": "name '__file__' is not defined",
     "output_type": "error",
     "traceback": [
      "\u001b[0;31m---------------------------------------------------------------------------\u001b[0m",
      "\u001b[0;31mNameError\u001b[0m                                 Traceback (most recent call last)",
      "\u001b[0;32m<ipython-input-1-234bae50c0cf>\u001b[0m in \u001b[0;36m<module>\u001b[0;34m\u001b[0m\n\u001b[1;32m     40\u001b[0m         \u001b[0;34m\"frequency\"\u001b[0m\u001b[0;34m:\u001b[0m \u001b[0;34m\"1m\"\u001b[0m\u001b[0;34m,\u001b[0m\u001b[0;34m\u001b[0m\u001b[0m\n\u001b[1;32m     41\u001b[0m         \u001b[0;34m\"benchmark\"\u001b[0m\u001b[0;34m:\u001b[0m \u001b[0;32mNone\u001b[0m\u001b[0;34m,\u001b[0m\u001b[0;34m\u001b[0m\u001b[0m\n\u001b[0;32m---> 42\u001b[0;31m         \u001b[0;34m\"strategy_file\"\u001b[0m\u001b[0;34m:\u001b[0m \u001b[0m__file__\u001b[0m\u001b[0;34m\u001b[0m\u001b[0m\n\u001b[0m\u001b[1;32m     43\u001b[0m     },\n\u001b[1;32m     44\u001b[0m     \"extra\": {\n",
      "\u001b[0;31mNameError\u001b[0m: name '__file__' is not defined"
     ]
    }
   ],
   "source": [
    "def before_trading(context):\n",
    "    pass\n",
    "\n",
    "def handle_bar(context, bar_dict):\n",
    "    bar = bar_dict[context.s1]\n",
    "    print(bar)\n",
    "    assert bar.datetime == context.now\n",
    "    lengths = [5]\n",
    "    frequencies = [\"1m\"]\n",
    "    for l, f in itertools.product(lengths, frequencies):\n",
    "        # print(pd.DataFrame(history_bars(context.s1, 5, \"1d\", include_now=True)))\n",
    "        df = pd.DataFrame(history_bars(context.s1, l, f))\n",
    "        print(df)\n",
    "        assert len(df) == l\n",
    "        assert convert_dt_to_int(context.now) == df[\"datetime\"].iloc[-1]\n",
    "    if not context.fired:\n",
    "        # order_percent并且传入1代表买入该股票并且使其占有投资组合的100%\n",
    "        order_percent(context.s1, 1)\n",
    "        context.fired = True\n",
    "\n",
    "config = {\n",
    "    \"base\": {\n",
    "        \"start_date\": \"2016-06-01\",\n",
    "        \"end_date\": \"2016-06-05\",\n",
    "        \"accounts\": {\"stock\": 100000},\n",
    "        \"frequency\": \"1m\",\n",
    "        \"benchmark\": None,\n",
    "        \"strategy_file\": __file__\n",
    "    },\n",
    "    \"extra\": {\n",
    "        \"log_level\": \"verbose\",\n",
    "    },\n",
    "    \"mod\": {\n",
    "        \"sys_analyser\": {\n",
    "            \"enabled\": True,\n",
    "            # \"report_save_path\": \".\",\n",
    "            \"plot\": True\n",
    "        },\n",
    "        \"sys_simulation\": {\n",
    "            \"enabled\": True,\n",
    "            # \"matching_type\": \"last\"\n",
    "        },\n",
    "        \"fxdayu_source\": {\n",
    "            \"enabled\": True,\n",
    "            \"source\": \"quantos\",\n",
    "            \"quantos_user\": \"139xxxxxxxx\", # 填入您的quantos用户名\n",
    "            \"quantos_token\": \"xxxxxxxxxxxxxxxxxxxxxxxxxxxxxxxxxxxxxxxxxxxxxxx\" # 填入您的quantos Token\n",
    "            # 其他配置参数\n",
    "        }\n",
    "    }\n",
    "}\n",
    "\n",
    "if __name__ == \"__main__\":\n",
    "    # 您可以指定您要传递的参数\n",
    "    run(config=config)"
   ]
  },
  {
   "cell_type": "code",
   "execution_count": null,
   "metadata": {},
   "outputs": [],
   "source": []
  }
 ],
 "metadata": {
  "kernelspec": {
   "display_name": "Python 3",
   "language": "python",
   "name": "python3"
  },
  "language_info": {
   "codemirror_mode": {
    "name": "ipython",
    "version": 3
   },
   "file_extension": ".py",
   "mimetype": "text/x-python",
   "name": "python",
   "nbconvert_exporter": "python",
   "pygments_lexer": "ipython3",
   "version": "3.6.5"
  }
 },
 "nbformat": 4,
 "nbformat_minor": 2
}
