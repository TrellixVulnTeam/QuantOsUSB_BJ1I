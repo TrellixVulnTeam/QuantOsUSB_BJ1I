{
 "cells": [
  {
   "cell_type": "code",
   "execution_count": 12,
   "metadata": {},
   "outputs": [
    {
     "ename": "ImportError",
     "evalue": "dlopen(/Applications/Kivy.app/Contents/Frameworks/python/3.6.5/lib/python3.6/site-packages/talib/_ta_lib.cpython-36m-darwin.so, 2): Library not loaded: @rpath/libc++.1.dylib\n  Referenced from: /Applications/Kivy.app/Contents/Frameworks/python/3.6.5/lib/python3.6/site-packages/talib/_ta_lib.cpython-36m-darwin.so\n  Reason: image not found",
     "output_type": "error",
     "traceback": [
      "\u001b[0;31m---------------------------------------------------------------------------\u001b[0m",
      "\u001b[0;31mImportError\u001b[0m                               Traceback (most recent call last)",
      "\u001b[0;32m<ipython-input-12-a70b65bebe31>\u001b[0m in \u001b[0;36m<module>\u001b[0;34m\u001b[0m\n\u001b[1;32m      8\u001b[0m \u001b[0;32mfrom\u001b[0m \u001b[0mtushare\u001b[0m \u001b[0;32mimport\u001b[0m \u001b[0;34m*\u001b[0m \u001b[0;31m#TUSHARE数据连接更新。\u001b[0m\u001b[0;34m\u001b[0m\u001b[0m\n\u001b[1;32m      9\u001b[0m \u001b[0;32mfrom\u001b[0m \u001b[0mrqalpha\u001b[0m \u001b[0;32mimport\u001b[0m \u001b[0;34m*\u001b[0m \u001b[0;31m#RQALPHA本地数据连接，通过 rqalpha update_bundle 8点后更新全部数据库\u001b[0m\u001b[0;34m\u001b[0m\u001b[0m\n\u001b[0;32m---> 10\u001b[0;31m \u001b[0;32mfrom\u001b[0m \u001b[0mfuncat\u001b[0m\u001b[0;34m.\u001b[0m\u001b[0mdata\u001b[0m\u001b[0;34m.\u001b[0m\u001b[0mtushare_backend\u001b[0m \u001b[0;32mimport\u001b[0m \u001b[0mTushareDataBackend\u001b[0m\u001b[0;34m\u001b[0m\u001b[0m\n\u001b[0m\u001b[1;32m     11\u001b[0m \u001b[0;32mfrom\u001b[0m \u001b[0mfuncat\u001b[0m\u001b[0;34m.\u001b[0m\u001b[0mdata\u001b[0m\u001b[0;34m.\u001b[0m\u001b[0mrqalpha_data_backend\u001b[0m \u001b[0;32mimport\u001b[0m \u001b[0mRQAlphaDataBackend\u001b[0m\u001b[0;34m\u001b[0m\u001b[0m\n\u001b[1;32m     12\u001b[0m \u001b[0mbackend\u001b[0m \u001b[0;34m=\u001b[0m \u001b[0;34m\"rqalpha\"\u001b[0m\u001b[0;34m\u001b[0m\u001b[0m\n",
      "\u001b[0;32m/Applications/Kivy.app/Contents/Frameworks/python/3.6.5/lib/python3.6/site-packages/funcat/__init__.py\u001b[0m in \u001b[0;36m<module>\u001b[0;34m\u001b[0m\n\u001b[1;32m     12\u001b[0m \u001b[0;32mdel\u001b[0m \u001b[0mpkgutil\u001b[0m\u001b[0;34m\u001b[0m\u001b[0m\n\u001b[1;32m     13\u001b[0m \u001b[0;34m\u001b[0m\u001b[0m\n\u001b[0;32m---> 14\u001b[0;31m \u001b[0;32mfrom\u001b[0m \u001b[0;34m.\u001b[0m\u001b[0mapi\u001b[0m \u001b[0;32mimport\u001b[0m \u001b[0;34m*\u001b[0m\u001b[0;34m\u001b[0m\u001b[0m\n\u001b[0m\u001b[1;32m     15\u001b[0m \u001b[0;32mfrom\u001b[0m \u001b[0;34m.\u001b[0m\u001b[0mindicators\u001b[0m \u001b[0;32mimport\u001b[0m \u001b[0;34m*\u001b[0m\u001b[0;34m\u001b[0m\u001b[0m\n\u001b[1;32m     16\u001b[0m \u001b[0;34m\u001b[0m\u001b[0m\n",
      "\u001b[0;32m/Applications/Kivy.app/Contents/Frameworks/python/3.6.5/lib/python3.6/site-packages/funcat/api.py\u001b[0m in \u001b[0;36m<module>\u001b[0;34m\u001b[0m\n\u001b[1;32m      3\u001b[0m \u001b[0;34m\u001b[0m\u001b[0m\n\u001b[1;32m      4\u001b[0m \u001b[0;32mfrom\u001b[0m \u001b[0;34m.\u001b[0m\u001b[0mtime_series\u001b[0m \u001b[0;32mimport\u001b[0m \u001b[0mMarketDataSeries\u001b[0m\u001b[0;34m\u001b[0m\u001b[0m\n\u001b[0;32m----> 5\u001b[0;31m from .func import (\n\u001b[0m\u001b[1;32m      6\u001b[0m     \u001b[0mSumSeries\u001b[0m\u001b[0;34m,\u001b[0m\u001b[0;34m\u001b[0m\u001b[0m\n\u001b[1;32m      7\u001b[0m     \u001b[0mAbsSeries\u001b[0m\u001b[0;34m,\u001b[0m\u001b[0;34m\u001b[0m\u001b[0m\n",
      "\u001b[0;32m/Applications/Kivy.app/Contents/Frameworks/python/3.6.5/lib/python3.6/site-packages/funcat/func.py\u001b[0m in \u001b[0;36m<module>\u001b[0;34m\u001b[0m\n\u001b[1;32m      5\u001b[0m \u001b[0;34m\u001b[0m\u001b[0m\n\u001b[1;32m      6\u001b[0m \u001b[0;32mimport\u001b[0m \u001b[0mnumpy\u001b[0m \u001b[0;32mas\u001b[0m \u001b[0mnp\u001b[0m\u001b[0;34m\u001b[0m\u001b[0m\n\u001b[0;32m----> 7\u001b[0;31m \u001b[0;32mimport\u001b[0m \u001b[0mtalib\u001b[0m\u001b[0;34m\u001b[0m\u001b[0m\n\u001b[0m\u001b[1;32m      8\u001b[0m \u001b[0;34m\u001b[0m\u001b[0m\n\u001b[1;32m      9\u001b[0m \u001b[0;32mfrom\u001b[0m \u001b[0;34m.\u001b[0m\u001b[0mcontext\u001b[0m \u001b[0;32mimport\u001b[0m \u001b[0mExecutionContext\u001b[0m\u001b[0;34m\u001b[0m\u001b[0m\n",
      "\u001b[0;32m/Applications/Kivy.app/Contents/Frameworks/python/3.6.5/lib/python3.6/site-packages/talib/__init__.py\u001b[0m in \u001b[0;36m<module>\u001b[0;34m\u001b[0m\n\u001b[1;32m     41\u001b[0m         \u001b[0;32mreturn\u001b[0m \u001b[0mwrapper\u001b[0m\u001b[0;34m\u001b[0m\u001b[0m\n\u001b[1;32m     42\u001b[0m \u001b[0;34m\u001b[0m\u001b[0m\n\u001b[0;32m---> 43\u001b[0;31m from ._ta_lib import (\n\u001b[0m\u001b[1;32m     44\u001b[0m     \u001b[0m_ta_initialize\u001b[0m\u001b[0;34m,\u001b[0m \u001b[0m_ta_shutdown\u001b[0m\u001b[0;34m,\u001b[0m \u001b[0mMA_Type\u001b[0m\u001b[0;34m,\u001b[0m \u001b[0m__ta_version__\u001b[0m\u001b[0;34m,\u001b[0m\u001b[0;34m\u001b[0m\u001b[0m\n\u001b[1;32m     45\u001b[0m     \u001b[0m_ta_set_unstable_period\u001b[0m \u001b[0;32mas\u001b[0m \u001b[0mset_unstable_period\u001b[0m\u001b[0;34m,\u001b[0m\u001b[0;34m\u001b[0m\u001b[0m\n",
      "\u001b[0;31mImportError\u001b[0m: dlopen(/Applications/Kivy.app/Contents/Frameworks/python/3.6.5/lib/python3.6/site-packages/talib/_ta_lib.cpython-36m-darwin.so, 2): Library not loaded: @rpath/libc++.1.dylib\n  Referenced from: /Applications/Kivy.app/Contents/Frameworks/python/3.6.5/lib/python3.6/site-packages/talib/_ta_lib.cpython-36m-darwin.so\n  Reason: image not found"
     ]
    }
   ],
   "source": [
    "from matplotlib import rcParams\n",
    "import matplotlib.pyplot as plt\n",
    "import numpy as np\n",
    "#import talib\n",
    "np.seterr(all='ignore')\n",
    "rcParams['figure.figsize'] = (14, 6)\n",
    "#from funcat import * #FUNCAT的同花顺/通达信指标模块：和：&，或：|，其他基本相同。可以使用指标选股！！！\n",
    "from tushare import * #TUSHARE数据连接更新。\n",
    "from rqalpha import * #RQALPHA本地数据连接，通过 rqalpha update_bundle 8点后更新全部数据库\n",
    "from funcat.data.tushare_backend import TushareDataBackend\n",
    "from funcat.data.rqalpha_data_backend import RQAlphaDataBackend\n",
    "backend = \"rqalpha\"\n",
    "if backend == \"rqalpha\":\n",
    "    set_data_backend(RQAlphaDataBackend(\"~/.rqalpha/bundle\"))\n",
    "elif backend == \"tushare\":\n",
    "    set_data_backend(TushareDataBackend())\n",
    "\n"
   ]
  },
  {
   "cell_type": "code",
   "execution_count": 13,
   "metadata": {},
   "outputs": [
    {
     "name": "stdout",
     "output_type": "stream",
     "text": [
      "The rqalpha extension is already loaded. To reload it, use:\n",
      "  %reload_ext rqalpha\n"
     ]
    }
   ],
   "source": [
    "%load_ext rqalpha"
   ]
  },
  {
   "cell_type": "code",
   "execution_count": 14,
   "metadata": {},
   "outputs": [
    {
     "name": "stdout",
     "output_type": "stream",
     "text": [
      "Usage: ipykernel_launcher.py [OPTIONS]\n",
      "\n",
      "  Start to run a strategy\n",
      "\n",
      "Options:\n",
      "  -h, --help                      Show this message and exit.\n",
      "  -d, --data-bundle-path PATH\n",
      "  -f, --strategy-file PATH\n",
      "  -s, --start-date DATE\n",
      "  -e, --end-date DATE\n",
      "  -bm, --benchmark TEXT\n",
      "  -mm, --margin-multiplier FLOAT\n",
      "  -a, --account TEXT...           set account type with starting cash\n",
      "  --position TEXT                 set init position\n",
      "  -fq, --frequency [1d|1m|tick]\n",
      "  -rt, --run-type [b|p|r]\n",
      "  -rp, --round-price\n",
      "  -mk, --market [cn|hk]\n",
      "  --resume\n",
      "  --source-code TEXT\n",
      "  -l, --log-level [verbose|debug|info|error|none]\n",
      "  --disable-user-system-log       disable user system log stdout\n",
      "  --disable-user-log              disable user log stdout\n",
      "  --logger TEXT...                config logger, e.g. --logger system_log\n",
      "                                  debug\n",
      "  --locale [cn|en]\n",
      "  --extra-vars TEXT               override context vars\n",
      "  --enable-profiler               add line profiler to profile your strategy\n",
      "  --config TEXT                   config file path\n",
      "  -mc, --mod-config TEXT...       mod extra config\n",
      "  --stock-t1 / --no-stock-t1      [sys_accounts] enable/disable stock T+1\n",
      "  --dividend-reinvestment         [sys_accounts] enable dividend reinvestment\n",
      "  --cash-return-by-stock-delisted / --no-cash-return-by-stock-delisted\n",
      "                                  [sys_simulation] return cash when stock\n",
      "                                  delisted\n",
      "  --signal                        [sys_simulation] exclude match engine\n",
      "  -sp, --slippage FLOAT           [sys_simulation] set slippage\n",
      "  --slippage-model TEXT           [sys_simulation] set slippage model\n",
      "  -me, --match-engine [current_bar|next_bar|last|best_own|best_counterparty]\n",
      "                                  [Deprecated][sys_simulation] set matching\n",
      "                                  type\n",
      "  -mt, --matching-type [current_bar|next_bar|last|best_own|best_counterparty]\n",
      "                                  [sys_simulation] set matching type\n",
      "  --progress                      [sys_progress]show progress bar\n",
      "  --no-short-stock / --short-stock\n",
      "                                  [sys_risk] enable stock shorting\n",
      "  --report PATH                   [sys_analyser] save report\n",
      "  -o, --output-file PATH          [sys_analyser] output result pickle file\n",
      "  -p, --plot / --no-plot          [sys_analyser] plot result\n",
      "  --plot-save TEXT                [sys_analyser] save plot to file\n",
      "  -cm, --commission-multiplier FLOAT\n",
      "                                  [sys_simulation] set commission multiplier\n",
      "  -cnsmc, --cn-stock-min-commission FLOAT\n",
      "                                  [sys_simulation] set minimum commission in\n",
      "                                  chinese stock trades.\n",
      "  -hksmc, --hk-stock-min-commission FLOAT\n",
      "                                  [sys_simulation] set minimum commission in\n",
      "                                  Hong Kong stock trades.\n",
      "  -smc, --stock-min-commission FLOAT\n",
      "                                  [sys_simulation][deprecated] set minimum\n",
      "                                  commission in chinese stock trades.\n"
     ]
    }
   ],
   "source": [
    "%%rqalpha -h\n",
    "\"\""
   ]
  },
  {
   "cell_type": "code",
   "execution_count": 7,
   "metadata": {},
   "outputs": [
    {
     "name": "stdout",
     "output_type": "stream",
     "text": [
      "The rqalpha extension is already loaded. To reload it, use:\n",
      "  %reload_ext rqalpha\n"
     ]
    }
   ],
   "source": [
    "%load_ext rqalpha"
   ]
  },
  {
   "cell_type": "code",
   "execution_count": 15,
   "metadata": {},
   "outputs": [
    {
     "name": "stderr",
     "output_type": "stream",
     "text": [
      "UsageError: Line magic function `%%rqalpha` not found.\n"
     ]
    }
   ],
   "source": [
    "\n",
    "%%rqalpha -s 20100101 -e 20180208 -p -bm 000001.XSHG --account stock 100000\n",
    "\n",
    "\n",
    "# 在这个方法中编写任何的初始化逻辑。context对象将会在你的算法策略的任何方法之间做传递。\n",
    "def init(context):\n",
    "\n",
    "    # 选择我们感兴趣的股票\n",
    "    context.s1 = \"000300.XSHG\"\n",
    "    context.s2 = \"000902.XSHG\"\n",
    "    context.s3 = \"000012.XSHG\"\n",
    "    context.stocks = [context.s1, context.s2, context.s3]\n",
    "\n",
    "    context.TIME_PERIOD = 14\n",
    "    context.HIGH_RSI = 85\n",
    "    context.LOW_RSI = 30\n",
    "    context.ORDER_PERCENT = 0.3\n",
    "\n",
    "\n",
    "# 你选择的证券的数据更新将会触发此段逻辑，例如日或分钟历史数据切片或者是实时数据切片更新\n",
    "def handle_bar(context, bar_dict):\n",
    "    # 开始编写你的主要的算法逻辑\n",
    "\n",
    "    # bar_dict[order_book_id] 可以拿到某个证券的bar信息\n",
    "    # context.portfolio 可以拿到现在的投资组合状态信息\n",
    "\n",
    "    # 使用order_shares(id_or_ins, amount)方法进行落单\n",
    "\n",
    "    # TODO: 开始编写你的算法吧！\n",
    "\n",
    "    # 对我们选中的股票集合进行loop，运算每一只股票的RSI数值\n",
    "    for stock in context.stocks:\n",
    "        # 读取历史数据\n",
    "        prices = history_bars(stock,context.TIME_PERIOD+1, '1d', 'close')\n",
    "\n",
    "        # 用Talib计算RSI值\n",
    "        rsi_data = talib.RSI(prices, timeperiod=context.TIME_PERIOD)[-1]\n",
    "\n",
    "        cur_position = context.portfolio.positions[stock].quantity\n",
    "        # 用剩余现金的30%来购买新的股票\n",
    "        target_available_cash = context.portfolio.cash * context.ORDER_PERCENT\n",
    "\n",
    "        # 当RSI大于设置的上限阀值，清仓该股票\n",
    "        if rsi_data > context.HIGH_RSI and cur_position > 0:\n",
    "            order_target_value(stock, 0)\n",
    "\n",
    "        # 当RSI小于设置的下限阀值，用剩余cash的一定比例补仓该股\n",
    "        if rsi_data < context.LOW_RSI:\n",
    "            logger.info(\"target available cash caled: \" + str(target_available_cash))\n",
    "            # 如果剩余的现金不够一手 - 100shares，那么会被ricequant 的order management system reject掉\n",
    "            order_value(stock, target_available_cash)\n",
    "\n",
    "\n",
    "    \n",
    "def handle_bar(context, bar_dict):\n",
    "    [hs, zz, gz] = context.stocks\n",
    "    hs_history20 = history_bars(hs, 20, '1d', 'close')\n",
    "    zz_history20 = history_bars(zz, 20, '1d', 'close')\n",
    "    \n",
    "    hsIncrease = hs_history20[-1] - hs_history20[0]\n",
    "    zzIncrease = zz_history20[-1] - zz_history20[0]\n",
    "    \n",
    "    positions = context.portfolio.positions\n",
    "    [hsQuality, zzQuality, gzQuality] = [positions[hs].quantity, positions[zz].quantity, positions[gz].quantity]\n",
    "    if hsIncrease < 0 and zzIncrease < 0:\n",
    "        if hsQuality > 0: order_target_percent(hs, 0)\n",
    "        if zzQuality > 0: order_target_percent(zz, 0)\n",
    "        order_target_percent(gz, 1)\n",
    "    elif hsIncrease < zzIncrease:\n",
    "        if hsQuality > 0: order_target_percent(hs, 0)\n",
    "        if gzQuality > 0: order_target_percent(gz, 0)\n",
    "        order_target_percent(zz, 1)\n",
    "    else:\n",
    "        if zzQuality > 0: order_target_percent(zz, 0)\n",
    "        if gzQuality > 0: order_target_percent(gz, 0)\n",
    "        order_target_percent(hs, 1)\n",
    "        #logger.info(\"positions hs300: \" + str(hsQuality) + \", zz500: \" + str(zzQuality) + \", gz: \" + str(gzQuality))"
   ]
  },
  {
   "cell_type": "code",
   "execution_count": 9,
   "metadata": {},
   "outputs": [
    {
     "ename": "ImportError",
     "evalue": "dlopen(/Applications/Kivy.app/Contents/Frameworks/python/3.6.5/lib/python3.6/site-packages/bcolz/carray_ext.cpython-36m-darwin.so, 2): Library not loaded: @rpath/libc++.1.dylib\n  Referenced from: /Applications/Kivy.app/Contents/Frameworks/python/3.6.5/lib/python3.6/site-packages/bcolz/carray_ext.cpython-36m-darwin.so\n  Reason: image not found",
     "output_type": "error",
     "traceback": [
      "\u001b[0;31m---------------------------------------------------------------------------\u001b[0m",
      "\u001b[0;31mImportError\u001b[0m                               Traceback (most recent call last)",
      "\u001b[0;32m<ipython-input-9-6135aca75a3b>\u001b[0m in \u001b[0;36m<module>\u001b[0;34m\u001b[0m\n\u001b[1;32m     49\u001b[0m         \u001b[0morder_target_percent\u001b[0m\u001b[0;34m(\u001b[0m\u001b[0mhs\u001b[0m\u001b[0;34m,\u001b[0m \u001b[0;36m1\u001b[0m\u001b[0;34m)\u001b[0m\u001b[0;34m\u001b[0m\u001b[0m\n\u001b[1;32m     50\u001b[0m \u001b[0;34m\u001b[0m\u001b[0m\n\u001b[0;32m---> 51\u001b[0;31m \u001b[0mresults\u001b[0m \u001b[0;34m=\u001b[0m \u001b[0mrun_func\u001b[0m\u001b[0;34m(\u001b[0m\u001b[0minit\u001b[0m\u001b[0;34m=\u001b[0m\u001b[0minit\u001b[0m\u001b[0;34m,\u001b[0m \u001b[0mhandle_bar\u001b[0m\u001b[0;34m=\u001b[0m\u001b[0mhandle_bar\u001b[0m\u001b[0;34m,\u001b[0m \u001b[0mconfig\u001b[0m\u001b[0;34m=\u001b[0m\u001b[0mconfig\u001b[0m\u001b[0;34m)\u001b[0m\u001b[0;34m\u001b[0m\u001b[0m\n\u001b[0m",
      "\u001b[0;32m/Applications/Kivy.app/Contents/Frameworks/python/3.6.5/lib/python3.6/site-packages/rqalpha/__init__.py\u001b[0m in \u001b[0;36mrun_func\u001b[0;34m(**kwargs)\u001b[0m\n\u001b[1;32m    120\u001b[0m     \u001b[0;32mfrom\u001b[0m \u001b[0mrqalpha\u001b[0m\u001b[0;34m.\u001b[0m\u001b[0mutils\u001b[0m\u001b[0;34m.\u001b[0m\u001b[0mpy2\u001b[0m \u001b[0;32mimport\u001b[0m \u001b[0mclear_all_cached_functions\u001b[0m\u001b[0;34m\u001b[0m\u001b[0m\n\u001b[1;32m    121\u001b[0m     \u001b[0;32mfrom\u001b[0m \u001b[0mrqalpha\u001b[0m\u001b[0;34m.\u001b[0m\u001b[0mutils\u001b[0m\u001b[0;34m.\u001b[0m\u001b[0mconfig\u001b[0m \u001b[0;32mimport\u001b[0m \u001b[0mparse_config\u001b[0m\u001b[0;34m\u001b[0m\u001b[0m\n\u001b[0;32m--> 122\u001b[0;31m     \u001b[0;32mfrom\u001b[0m \u001b[0mrqalpha\u001b[0m \u001b[0;32mimport\u001b[0m \u001b[0mmain\u001b[0m\u001b[0;34m\u001b[0m\u001b[0m\n\u001b[0m\u001b[1;32m    123\u001b[0m \u001b[0;34m\u001b[0m\u001b[0m\n\u001b[1;32m    124\u001b[0m     \u001b[0mconfig\u001b[0m \u001b[0;34m=\u001b[0m \u001b[0mkwargs\u001b[0m\u001b[0;34m.\u001b[0m\u001b[0mget\u001b[0m\u001b[0;34m(\u001b[0m\u001b[0;34m'config'\u001b[0m\u001b[0;34m,\u001b[0m \u001b[0mkwargs\u001b[0m\u001b[0;34m.\u001b[0m\u001b[0mget\u001b[0m\u001b[0;34m(\u001b[0m\u001b[0;34m'__config__'\u001b[0m\u001b[0;34m,\u001b[0m \u001b[0;32mNone\u001b[0m\u001b[0;34m)\u001b[0m\u001b[0;34m)\u001b[0m\u001b[0;34m\u001b[0m\u001b[0m\n",
      "\u001b[0;32m/Applications/Kivy.app/Contents/Frameworks/python/3.6.5/lib/python3.6/site-packages/rqalpha/main.py\u001b[0m in \u001b[0;36m<module>\u001b[0;34m\u001b[0m\n\u001b[1;32m     37\u001b[0m \u001b[0;32mfrom\u001b[0m \u001b[0mrqalpha\u001b[0m\u001b[0;34m.\u001b[0m\u001b[0mcore\u001b[0m\u001b[0;34m.\u001b[0m\u001b[0mglobal_var\u001b[0m \u001b[0;32mimport\u001b[0m \u001b[0mGlobalVars\u001b[0m\u001b[0;34m\u001b[0m\u001b[0m\n\u001b[1;32m     38\u001b[0m \u001b[0;32mfrom\u001b[0m \u001b[0mrqalpha\u001b[0m\u001b[0;34m.\u001b[0m\u001b[0mcore\u001b[0m\u001b[0;34m.\u001b[0m\u001b[0mstrategy_context\u001b[0m \u001b[0;32mimport\u001b[0m \u001b[0mStrategyContext\u001b[0m\u001b[0;34m\u001b[0m\u001b[0m\n\u001b[0;32m---> 39\u001b[0;31m \u001b[0;32mfrom\u001b[0m \u001b[0mrqalpha\u001b[0m\u001b[0;34m.\u001b[0m\u001b[0mdata\u001b[0m\u001b[0;34m.\u001b[0m\u001b[0mbase_data_source\u001b[0m \u001b[0;32mimport\u001b[0m \u001b[0mBaseDataSource\u001b[0m\u001b[0;34m\u001b[0m\u001b[0m\n\u001b[0m\u001b[1;32m     40\u001b[0m \u001b[0;32mfrom\u001b[0m \u001b[0mrqalpha\u001b[0m\u001b[0;34m.\u001b[0m\u001b[0mdata\u001b[0m\u001b[0;34m.\u001b[0m\u001b[0mdata_proxy\u001b[0m \u001b[0;32mimport\u001b[0m \u001b[0mDataProxy\u001b[0m\u001b[0;34m\u001b[0m\u001b[0m\n\u001b[1;32m     41\u001b[0m \u001b[0;32mfrom\u001b[0m \u001b[0mrqalpha\u001b[0m\u001b[0;34m.\u001b[0m\u001b[0menvironment\u001b[0m \u001b[0;32mimport\u001b[0m \u001b[0mEnvironment\u001b[0m\u001b[0;34m\u001b[0m\u001b[0m\n",
      "\u001b[0;32m/Applications/Kivy.app/Contents/Frameworks/python/3.6.5/lib/python3.6/site-packages/rqalpha/data/base_data_source.py\u001b[0m in \u001b[0;36m<module>\u001b[0;34m\u001b[0m\n\u001b[1;32m     29\u001b[0m \u001b[0;32mfrom\u001b[0m \u001b[0mrqalpha\u001b[0m\u001b[0;34m.\u001b[0m\u001b[0mdata\u001b[0m\u001b[0;34m.\u001b[0m\u001b[0mconverter\u001b[0m \u001b[0;32mimport\u001b[0m \u001b[0mFutureDayBarConverter\u001b[0m\u001b[0;34m,\u001b[0m \u001b[0mFundDayBarConverter\u001b[0m\u001b[0;34m,\u001b[0m \u001b[0mPublicFundDayBarConverter\u001b[0m\u001b[0;34m\u001b[0m\u001b[0m\n\u001b[1;32m     30\u001b[0m \u001b[0;34m\u001b[0m\u001b[0m\n\u001b[0;32m---> 31\u001b[0;31m \u001b[0;32mfrom\u001b[0m \u001b[0mrqalpha\u001b[0m\u001b[0;34m.\u001b[0m\u001b[0mdata\u001b[0m\u001b[0;34m.\u001b[0m\u001b[0mdaybar_store\u001b[0m \u001b[0;32mimport\u001b[0m \u001b[0mDayBarStore\u001b[0m\u001b[0;34m\u001b[0m\u001b[0m\n\u001b[0m\u001b[1;32m     32\u001b[0m \u001b[0;32mfrom\u001b[0m \u001b[0mrqalpha\u001b[0m\u001b[0;34m.\u001b[0m\u001b[0mdata\u001b[0m\u001b[0;34m.\u001b[0m\u001b[0mdate_set\u001b[0m \u001b[0;32mimport\u001b[0m \u001b[0mDateSet\u001b[0m\u001b[0;34m\u001b[0m\u001b[0m\n\u001b[1;32m     33\u001b[0m \u001b[0;32mfrom\u001b[0m \u001b[0mrqalpha\u001b[0m\u001b[0;34m.\u001b[0m\u001b[0mdata\u001b[0m\u001b[0;34m.\u001b[0m\u001b[0mdividend_store\u001b[0m \u001b[0;32mimport\u001b[0m \u001b[0mDividendStore\u001b[0m\u001b[0;34m\u001b[0m\u001b[0m\n",
      "\u001b[0;32m/Applications/Kivy.app/Contents/Frameworks/python/3.6.5/lib/python3.6/site-packages/rqalpha/data/daybar_store.py\u001b[0m in \u001b[0;36m<module>\u001b[0;34m\u001b[0m\n\u001b[1;32m     15\u001b[0m \u001b[0;31m# limitations under the License.\u001b[0m\u001b[0;34m\u001b[0m\u001b[0;34m\u001b[0m\u001b[0m\n\u001b[1;32m     16\u001b[0m \u001b[0;34m\u001b[0m\u001b[0m\n\u001b[0;32m---> 17\u001b[0;31m \u001b[0;32mimport\u001b[0m \u001b[0mbcolz\u001b[0m\u001b[0;34m\u001b[0m\u001b[0m\n\u001b[0m\u001b[1;32m     18\u001b[0m \u001b[0;32mimport\u001b[0m \u001b[0mnumpy\u001b[0m \u001b[0;32mas\u001b[0m \u001b[0mnp\u001b[0m\u001b[0;34m\u001b[0m\u001b[0m\n\u001b[1;32m     19\u001b[0m \u001b[0;32mimport\u001b[0m \u001b[0msix\u001b[0m\u001b[0;34m\u001b[0m\u001b[0m\n",
      "\u001b[0;32m/Applications/Kivy.app/Contents/Frameworks/python/3.6.5/lib/python3.6/site-packages/bcolz/__init__.py\u001b[0m in \u001b[0;36m<module>\u001b[0;34m\u001b[0m\n\u001b[1;32m     74\u001b[0m     array2string, set_printoptions, get_printoptions )\n\u001b[1;32m     75\u001b[0m \u001b[0;34m\u001b[0m\u001b[0m\n\u001b[0;32m---> 76\u001b[0;31m from bcolz.carray_ext import (\n\u001b[0m\u001b[1;32m     77\u001b[0m     \u001b[0mcarray\u001b[0m\u001b[0;34m,\u001b[0m \u001b[0mblosc_version\u001b[0m\u001b[0;34m,\u001b[0m \u001b[0mblosc_compressor_list\u001b[0m\u001b[0;34m,\u001b[0m\u001b[0;34m\u001b[0m\u001b[0m\n\u001b[1;32m     78\u001b[0m     \u001b[0m_blosc_set_nthreads\u001b[0m \u001b[0;32mas\u001b[0m \u001b[0mblosc_set_nthreads\u001b[0m\u001b[0;34m,\u001b[0m\u001b[0;34m\u001b[0m\u001b[0m\n",
      "\u001b[0;31mImportError\u001b[0m: dlopen(/Applications/Kivy.app/Contents/Frameworks/python/3.6.5/lib/python3.6/site-packages/bcolz/carray_ext.cpython-36m-darwin.so, 2): Library not loaded: @rpath/libc++.1.dylib\n  Referenced from: /Applications/Kivy.app/Contents/Frameworks/python/3.6.5/lib/python3.6/site-packages/bcolz/carray_ext.cpython-36m-darwin.so\n  Reason: image not found"
     ]
    }
   ],
   "source": [
    "config = {\n",
    "  \"base\": {\n",
    "    \"start_date\": \"2010-01-01\",\n",
    "    \"end_date\": \"2018-02-08\",\n",
    "    \"benchmark\": \"000001.XSHG\",\n",
    "    \"accounts\": {\n",
    "        \"stock\": 100000\n",
    "    }\n",
    "  },\n",
    "  \"extra\": {\n",
    "    \"log_level\": \"info\",\n",
    "  },\n",
    "  \"mod\": {\n",
    "    \"sys_analyser\": {\n",
    "      \"enabled\": True,\n",
    "      \"plot\": True,\n",
    "    },\n",
    "  }\n",
    "}\n",
    "from rqalpha.api import *\n",
    "from rqalpha import run_func\n",
    "\n",
    "# 在这个方法中编写任何的初始化逻辑。context对象将会在你的算法策略的任何方法之间做传递。\n",
    "def init(context):\n",
    "    # 选择我们感兴趣的股票\n",
    "    context.s1 = \"000300.XSHG\"\n",
    "    context.s2 = \"000905.XSHG\"\n",
    "    context.s3 = \"000012.XSHG\"\n",
    "    context.stocks = [context.s1, context.s2, context.s3]\n",
    "def handle_bar(context, bar_dict):\n",
    "    [hs, zz, gz] = context.stocks\n",
    "    hs_history20 = history_bars(hs, 27, '1d', 'close')\n",
    "    zz_history20 = history_bars(zz, 27, '1d', 'close')    \n",
    "    hsIncrease = hs_history20[-2] - hs_history20[0]\n",
    "    zzIncrease = zz_history20[-2] - zz_history20[0]    \n",
    "    positions = context.portfolio.positions\n",
    "    [hsQuality, zzQuality, gzQuality] = [positions[hs].quantity, positions[zz].quantity, positions[gz].quantity]\n",
    "    if hsIncrease < 0 and zzIncrease < 0:\n",
    "        if hsQuality > 0: order_target_percent(hs, 0)\n",
    "        if zzQuality > 0: order_target_percent(zz, 0)\n",
    "        order_target_percent(gz, 1)\n",
    "    elif hsIncrease < zzIncrease:\n",
    "        if hsQuality > 0: order_target_percent(hs, 0)\n",
    "        if gzQuality > 0: order_target_percent(gz, 0)\n",
    "        order_target_percent(zz, 1)\n",
    "    else:\n",
    "        if zzQuality > 0: order_target_percent(zz, 0)\n",
    "        if gzQuality > 0: order_target_percent(gz, 0)\n",
    "        order_target_percent(hs, 1)\n",
    "            \n",
    "results = run_func(init=init, handle_bar=handle_bar, config=config)"
   ]
  },
  {
   "cell_type": "code",
   "execution_count": null,
   "metadata": {
    "collapsed": true
   },
   "outputs": [],
   "source": []
  }
 ],
 "metadata": {
  "kernelspec": {
   "display_name": "Python 3",
   "language": "python",
   "name": "python3"
  },
  "language_info": {
   "codemirror_mode": {
    "name": "ipython",
    "version": 3
   },
   "file_extension": ".py",
   "mimetype": "text/x-python",
   "name": "python",
   "nbconvert_exporter": "python",
   "pygments_lexer": "ipython3",
   "version": "3.6.5"
  }
 },
 "nbformat": 4,
 "nbformat_minor": 2
}
