{
 "cells": [
  {
   "cell_type": "code",
   "execution_count": 3,
   "metadata": {},
   "outputs": [],
   "source": [
    "from matplotlib import rcParams\n",
    "import matplotlib.pyplot as plt\n",
    "import numpy as np\n",
    "\n",
    "np.seterr(all='ignore')\n",
    "rcParams['figure.figsize'] = (14, 6)"
   ]
  },
  {
   "cell_type": "code",
   "execution_count": 4,
   "metadata": {
    "collapsed": true
   },
   "outputs": [],
   "source": [
    "from funcat import *"
   ]
  },
  {
   "cell_type": "code",
   "execution_count": 5,
   "metadata": {
    "collapsed": true
   },
   "outputs": [],
   "source": [
    "from funcat.data.tushare_backend import TushareDataBackend\n",
    "from funcat.data.rqalpha_data_backend import RQAlphaDataBackend\n",
    "\n",
    "backend = \"rqalpha\"\n",
    "\n",
    "if backend == \"rqalpha\":\n",
    "    set_data_backend(RQAlphaDataBackend(\"~/.rqalpha/bundle\"))\n",
    "elif backend == \"tushare\":\n",
    "    set_data_backend(TushareDataBackend())\n",
    "\n",
    "set_start_date(\"2017-01-01\")\n",
    "S(\"000001.XSHG\")  # 设置当前关注股票\n",
    "T(\"2018-01-29\")   # 设置当前观察日期"
   ]
  },
  {
   "cell_type": "code",
   "execution_count": 6,
   "metadata": {
    "collapsed": true
   },
   "outputs": [],
   "source": [
    " #import RQAlpha update_bundle"
   ]
  },
  {
   "cell_type": "markdown",
   "metadata": {},
   "source": [
    "## 基本API"
   ]
  },
  {
   "cell_type": "code",
   "execution_count": 7,
   "metadata": {},
   "outputs": [
    {
     "name": "stdout",
     "output_type": "stream",
     "text": [
      "3563.64 3587.03 3510.27 3523.0 23602696500.0\n"
     ]
    }
   ],
   "source": [
    "print(O, H, L, C, V)  # 打印 Open High Low Close"
   ]
  },
  {
   "cell_type": "code",
   "execution_count": 8,
   "metadata": {},
   "outputs": [
    {
     "data": {
      "text/plain": [
       "-0.009873163712399546"
      ]
     },
     "execution_count": 8,
     "metadata": {},
     "output_type": "execute_result"
    }
   ],
   "source": [
    "C / C[1] - 1  # 当天涨幅"
   ]
  },
  {
   "cell_type": "code",
   "execution_count": 9,
   "metadata": {},
   "outputs": [
    {
     "data": {
      "text/plain": [
       "3377.3656666666643"
      ]
     },
     "execution_count": 9,
     "metadata": {},
     "output_type": "execute_result"
    }
   ],
   "source": [
    "MA(C, 60)  # 打印60日均线"
   ]
  },
  {
   "cell_type": "code",
   "execution_count": 10,
   "metadata": {},
   "outputs": [
    {
     "data": {
      "text/plain": [
       "True"
      ]
     },
     "execution_count": 10,
     "metadata": {},
     "output_type": "execute_result"
    }
   ],
   "source": [
    "C > MA(C, 60)  # 判断收盘价是否大于60日均线"
   ]
  },
  {
   "cell_type": "code",
   "execution_count": 11,
   "metadata": {},
   "outputs": [
    {
     "data": {
      "text/plain": [
       "3587.03"
      ]
     },
     "execution_count": 11,
     "metadata": {},
     "output_type": "execute_result"
    }
   ],
   "source": [
    "HHV(H, 30)  # 30日最高价"
   ]
  },
  {
   "cell_type": "code",
   "execution_count": 12,
   "metadata": {},
   "outputs": [
    {
     "data": {
      "text/plain": [
       "19"
      ]
     },
     "execution_count": 12,
     "metadata": {},
     "output_type": "execute_result"
    }
   ],
   "source": [
    "COUNT(C > MA(C, 60), 30)  # 最近30日，收盘价 Close 大于60日均线的天数"
   ]
  },
  {
   "cell_type": "code",
   "execution_count": 13,
   "metadata": {},
   "outputs": [
    {
     "data": {
      "text/plain": [
       "False"
      ]
     },
     "execution_count": 13,
     "metadata": {},
     "output_type": "execute_result"
    }
   ],
   "source": [
    "CROSS(MA(C, 10), MA(C, 20))  # 10日均线上穿"
   ]
  },
  {
   "cell_type": "code",
   "execution_count": 14,
   "metadata": {},
   "outputs": [
    {
     "data": {
      "text/plain": [
       "8"
      ]
     },
     "execution_count": 14,
     "metadata": {},
     "output_type": "execute_result"
    }
   ],
   "source": [
    "COUNT(C > O, 10)  # 最近10天收阳线的天数"
   ]
  },
  {
   "cell_type": "code",
   "execution_count": 15,
   "metadata": {},
   "outputs": [
    {
     "data": {
      "text/plain": [
       "3563.64"
      ]
     },
     "execution_count": 15,
     "metadata": {},
     "output_type": "execute_result"
    }
   ],
   "source": [
    "HHV(MAX(O, C), 60)  # 最近60天K线实体的最高价"
   ]
  },
  {
   "cell_type": "code",
   "execution_count": 16,
   "metadata": {},
   "outputs": [
    {
     "data": {
      "text/plain": [
       "False"
      ]
     },
     "execution_count": 16,
     "metadata": {},
     "output_type": "execute_result"
    }
   ],
   "source": [
    "CROSS(MA(C, 5), MA(C, 10))  # 5日均线上穿10日均线"
   ]
  },
  {
   "cell_type": "markdown",
   "metadata": {},
   "source": [
    "## 自定义公式"
   ]
  },
  {
   "cell_type": "markdown",
   "metadata": {},
   "source": [
    "### 0x01 KDJ指标"
   ]
  },
  {
   "cell_type": "code",
   "execution_count": 17,
   "metadata": {},
   "outputs": [
    {
     "name": "stdout",
     "output_type": "stream",
     "text": [
      "86.62181222438946 85.40907938545587 89.04727790225661\n"
     ]
    },
    {
     "data": {
      "text/plain": [
       "<matplotlib.legend.Legend at 0x1168cbb00>"
      ]
     },
     "execution_count": 17,
     "metadata": {},
     "output_type": "execute_result"
    }
   ],
   "source": [
    "N, M1, M2 = 27, 9, 3\n",
    "\n",
    "RSV = (CLOSE - LLV(LOW, N)) / (HHV(HIGH, N) - LLV(LOW, N)) * 100\n",
    "K = EMA(RSV, (M1 * 2 - 1))\n",
    "D = EMA(K, (M2 * 2 - 1))\n",
    "J = K * 3 - D * 2\n",
    "\n",
    "ax = plt.subplot()\n",
    "\n",
    "plt.plot(K.series, label=\"K\", linewidth=2)\n",
    "plt.plot(D.series, label=\"D\", alpha=0.7)\n",
    "plt.plot(J.series, label=\"J\", alpha=0.7)\n",
    "\n",
    "print(K, D, J)\n",
    "plt.legend(loc=\"best\")"
   ]
  },
  {
   "cell_type": "markdown",
   "metadata": {},
   "source": [
    "### 0x02 均线金叉死叉"
   ]
  },
  {
   "cell_type": "code",
   "execution_count": 18,
   "metadata": {},
   "outputs": [
    {
     "name": "stderr",
     "output_type": "stream",
     "text": [
      "/Users/zy/anaconda3/envs/funcat/lib/python3.6/site-packages/matplotlib/cbook/deprecation.py:106: MatplotlibDeprecationWarning: Adding an axes using the same arguments as a previous axes currently reuses the earlier instance.  In a future version, a new instance will always be created and returned.  Meanwhile, this warning can be suppressed, and the future behavior ensured, by passing a unique label to each axes instance.\n",
      "  warnings.warn(message, mplDeprecation, stacklevel=1)\n"
     ]
    },
    {
     "data": {
      "text/plain": [
       "<matplotlib.legend.Legend at 0x1168f3588>"
      ]
     },
     "execution_count": 18,
     "metadata": {},
     "output_type": "execute_result"
    }
   ],
   "source": [
    "ax = plt.subplot()\n",
    "\n",
    "ma10 = MA(C, 10)\n",
    "ma30 = MA(C, 30)\n",
    "buy_signal = CROSS(ma10, ma30)\n",
    "sell_signal = CROSS(ma30, ma10)\n",
    "\n",
    "plt.plot(C.series, label=\"close\", linewidth=2)\n",
    "plt.plot(ma10.series, label=\"ma10\", alpha=0.7)\n",
    "plt.plot(ma30.series, label=\"ma30\", alpha=0.7)\n",
    "\n",
    "plt.plot(np.where(buy_signal.series)[0], C.series[np.where(buy_signal.series)[0]], \"^\", label=\"buy\", markersize=12, color=\"red\")\n",
    "plt.plot(np.where(sell_signal.series)[0], C.series[np.where(sell_signal.series)[0]], \"v\", label=\"sell\", markersize=12, color=\"green\")\n",
    "plt.legend(loc=\"best\")"
   ]
  },
  {
   "cell_type": "markdown",
   "metadata": {},
   "source": [
    "### 0x03 DMA指标（Different of Moving Average）\n",
    "[DMA指标](http://wiki.mbalib.com/wiki/DMA)。DMA指标（Different of Moving Average）又叫平行线差指标，是目前股市分析技术指标中的一种中短期指标，它常用于大盘指数和个股的研判。"
   ]
  },
  {
   "cell_type": "code",
   "execution_count": 19,
   "metadata": {},
   "outputs": [
    {
     "name": "stdout",
     "output_type": "stream",
     "text": [
      "138.01980000000276 95.82720000000272\n"
     ]
    },
    {
     "data": {
      "text/plain": [
       "<matplotlib.legend.Legend at 0x116999278>"
      ]
     },
     "execution_count": 19,
     "metadata": {},
     "output_type": "execute_result"
    }
   ],
   "source": [
    "M1 = 10\n",
    "M2 = 50\n",
    "M3 = 10\n",
    "\n",
    "DDD = MA(CLOSE, M1) - MA(CLOSE, M2)\n",
    "AMA = MA(DDD, M3)\n",
    "\n",
    "print(DDD, AMA)\n",
    "\n",
    "f, (ax1, ax2) = plt.subplots(2, 1)\n",
    "\n",
    "ax1.plot(C.series, label=\"close\")\n",
    "ax1.plot(MA(C, 30).series, label=\"ma60\")\n",
    "ax1.set_xlim(50)\n",
    "\n",
    "ax2.plot(DDD.series, label=\"DDD\")\n",
    "ax2.plot(AMA.series, label=\"AMA\")\n",
    "ax2.set_xlim(50)\n",
    "\n",
    "plt.legend(loc=\"best\")"
   ]
  },
  {
   "cell_type": "markdown",
   "metadata": {},
   "source": [
    "## 选股"
   ]
  },
  {
   "cell_type": "code",
   "execution_count": null,
   "metadata": {},
   "outputs": [
    {
     "name": "stdout",
     "output_type": "stream",
     "text": [
      "lambda : C / C[1] - 1 >= 0.0995,\n",
      "[20180129]\n",
      "20180129 000505.XSHE 珠江控股\n",
      "20180129 000720.XSHE 新能泰山\n",
      "20180129 002016.XSHE 世荣兆业\n",
      "20180129 002190.XSHE 成飞集成\n",
      "20180129 002514.XSHE 宝馨科技\n",
      "20180129 002687.XSHE 乔治白\n",
      "20180129 002893.XSHE 华通热力\n",
      "20180129 002923.XSHE 润都股份\n",
      "20180129 300149.XSHE 量子高科\n",
      "20180129 300603.XSHE 立昂技术\n",
      "20180129 300624.XSHE 万兴科技\n",
      "20180129 300718.XSHE 长盛轴承\n",
      "20180129 300727.XSHE 润禾材料\n",
      "20180129 300737.XSHE 科顺股份\n",
      "20180129 300738.XSHE 奥飞数据\n",
      "20180129 600093.XSHG 易见股份\n",
      "20180129 600238.XSHG 海南椰岛\n",
      "20180129 603056.XSHG 德邦股份\n",
      "20180129 603356.XSHG 华菱精工\n",
      "20180129 603518.XSHG 维格娜丝\n",
      "20180129 603655.XSHG 朗博科技\n",
      "20180129 603895.XSHG 天永智能\n",
      "\n"
     ]
    }
   ],
   "source": [
    "# 选出涨停股\n",
    "select(\n",
    "    lambda : C / C[1] - 1 >= 0.0995,\n",
    "    start_date=20180129,\n",
    "\tend_date=20180129,\n",
    ")"
   ]
  },
  {
   "cell_type": "code",
   "execution_count": null,
   "metadata": {},
   "outputs": [
    {
     "name": "stdout",
     "output_type": "stream",
     "text": [
      "lambda : ((HHV(MAX(C, O), 30) / LLV(MIN(C, O), 30) - 1 < 0.07)\n",
      "              & (HHV(MAX(C, O), 100) / LLV(MIN(C, O), 100) - 1 > 0.25)\n",
      "              & (COUNT(C > MA(C, 60), 10) > 3)\n",
      "             ),\n",
      "[20180129]\n",
      "20180129 000419.XSHE 通程控股\n",
      "20180129 000428.XSHE 华天酒店\n",
      "20180129 000833.XSHE 贵糖股份\n",
      "20180129 002578.XSHE 闽发铝业\n",
      "20180129 002656.XSHE 摩登大道\n",
      "20180129 600054.XSHG 黄山旅游\n",
      "20180129 600108.XSHG 亚盛集团\n",
      "20180129 600730.XSHG 中国高科\n",
      "20180129 601616.XSHG 广电电气\n",
      "20180129 601700.XSHG 风范股份\n"
     ]
    }
   ],
   "source": [
    "# 选出最近30天K线实体最高价最低价差7%以内，最近100天K线实体最高价最低价差25%以内，\n",
    "# 最近10天，收盘价大于60日均线的天数大于3天\n",
    "select(\n",
    "    lambda : ((HHV(MAX(C, O), 30) / LLV(MIN(C, O), 30) - 1 < 0.07)\n",
    "              & (HHV(MAX(C, O), 100) / LLV(MIN(C, O), 100) - 1 > 0.25)\n",
    "              & (COUNT(C > MA(C, 60), 10) > 3)\n",
    "             ),\n",
    "    start_date=20180129,\n",
    "\tend_date=20180129,\n",
    ")"
   ]
  },
  {
   "cell_type": "code",
   "execution_count": null,
   "metadata": {},
   "outputs": [],
   "source": [
    "# 选出最近3天每天的成交量小于20日成交量均线，最近3天最低价低于20日均线，最高价高于20日均线\n",
    "# 自定义选股回调函数\n",
    "def callback(date, order_book_id, symbol):\n",
    "    print(\"Cool, 在\", date, \"选出\", order_book_id, symbol)\n",
    "\n",
    "    \n",
    "select(\n",
    "    lambda : (EVERY(V < MA(V, 20) / 2, 3) & EVERY(L < MA(C, 20), 3) & EVERY(H > MA(C, 20), 3)),\n",
    "    start_date=20180129,\n",
    "\tend_date=20180129,\n",
    "    callback=callback,\n",
    ")"
   ]
  },
  {
   "cell_type": "code",
   "execution_count": null,
   "metadata": {
    "collapsed": true
   },
   "outputs": [],
   "source": []
  }
 ],
 "metadata": {
  "anaconda-cloud": {},
  "kernelspec": {
   "display_name": "Python 2",
   "language": "python",
   "name": "python2"
  },
  "language_info": {
   "codemirror_mode": {
    "name": "ipython",
    "version": 3
   },
   "file_extension": ".py",
   "mimetype": "text/x-python",
   "name": "python",
   "nbconvert_exporter": "python",
   "pygments_lexer": "ipython3",
   "version": "3.6.2"
  }
 },
 "nbformat": 4,
 "nbformat_minor": 1
}
