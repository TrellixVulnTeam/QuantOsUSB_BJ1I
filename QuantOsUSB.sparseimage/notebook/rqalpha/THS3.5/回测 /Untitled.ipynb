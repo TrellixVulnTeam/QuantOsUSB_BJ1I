{
 "cells": [
  {
   "cell_type": "code",
   "execution_count": null,
   "metadata": {},
   "outputs": [],
   "source": [
    "%load_ext Cython"
   ]
  },
  {
   "cell_type": "code",
   "execution_count": null,
   "metadata": {
    "collapsed": true
   },
   "outputs": [],
   "source": [
    "%reload_ext Cython"
   ]
  },
  {
   "cell_type": "code",
   "execution_count": null,
   "metadata": {
    "collapsed": true
   },
   "outputs": [],
   "source": [
    "%%cython\n",
    "cdef int add(int x, int y):\n",
    "    return x + y"
   ]
  },
  {
   "cell_type": "code",
   "execution_count": null,
   "metadata": {},
   "outputs": [],
   "source": [
    "%%cython -h"
   ]
  },
  {
   "cell_type": "code",
   "execution_count": null,
   "metadata": {},
   "outputs": [],
   "source": [
    "%%cython\n",
    "def sum(int a, int b):\n",
    "    cdef int s = a+b\n",
    "    return s\n",
    "sum(1,3)\n",
    "\n",
    "def AVEDEV(value,N):\n",
    "    mean = value/N\n",
    "    for i in range(1,N):\n",
    "        mean += REF(value,i)/N\n",
    "    sum_ = ABS(value-mean)\n",
    "    for i in range(1,N):\n",
    "        sum_ += ABS(REF(value,i)-mean)\n",
    "    return sum_/N"
   ]
  },
  {
   "cell_type": "code",
   "execution_count": null,
   "metadata": {},
   "outputs": [],
   "source": [
    "%%cython\n",
    "def sum(int a, int b):\n",
    "    cdef int s = a+b\n",
    "    return s\n",
    "sum(1,3)\n",
    "\n",
    "def sum1( a,  b):\n",
    "    s = a+b\n",
    "    return s\n",
    "\n",
    "%timeit sum\n",
    "%timeit sum1"
   ]
  },
  {
   "cell_type": "code",
   "execution_count": null,
   "metadata": {},
   "outputs": [],
   "source": [
    "%%cython\n",
    "def ABS(int a, int b):\n",
    "    cdef int s = a+b\n",
    "    return s\n",
    "ABS(1,3)\n",
    "\n",
    "def ABS1( a,  b):\n",
    "    s = a+b\n",
    "    return s\n",
    "\n",
    "%timeit ABS\n",
    "%timeit ABS1"
   ]
  },
  {
   "cell_type": "code",
   "execution_count": 1,
   "metadata": {
    "collapsed": true
   },
   "outputs": [],
   "source": [
    "%load_ext Cython"
   ]
  },
  {
   "cell_type": "code",
   "execution_count": null,
   "metadata": {
    "collapsed": true
   },
   "outputs": [],
   "source": []
  },
  {
   "cell_type": "code",
   "execution_count": null,
   "metadata": {},
   "outputs": [
    {
     "name": "stdout",
     "output_type": "stream",
     "text": [
      "《设定测试》读取当日时间格式：n1 2018-02-14\n",
      "《设定测试》读取当日时间格式：n2 20180214\n",
      "《设定测试》读取前二日时间格式：n3 2018-02-04\n",
      "《设定测试》读取当日时间格式：n4 2018214\n",
      "《设定测试》读取当日时间格式：n5 2018-02-14T10:50:47.176561\n",
      "《设定测试》手动设定选股开始时间格式：n8 20180201\n",
      "《设定测试》手动设定选股结束时间格式：n9 20180209\n",
      "《设定测试》自动设定数据起始设定前推200天：n10 2017-07-29\n",
      "《设定测试》设定股票代码 000001.XSHG\n",
      "《数据测试》打印 开盘 最高 最低 收盘 成交量 3172.85 3180.11 3062.74 3129.85 25638917600.0\n",
      "《数据测试》当天涨幅 -0.04052666268144278\n",
      "《数据测试》打印60日均线 3372.0388333333312\n",
      "《数据测试》判断收盘价是否大于60日均线 False\n",
      "《数据测试》30日最高价 3587.03\n",
      "《数据测试》最近30日，收盘价 Close 大于60日均线的天数 24\n",
      "《数据测试》10日均线上穿 False\n",
      "《数据测试》最近10天收阳线的天数 3\n",
      "《数据测试》最近60天K线实体的最高价 3563.64\n",
      "《数据测试》5日均线上穿10日均线 False\n",
      "《RQALPHA本地化开始CCI选股》读取开始时间：==》n5 2018-02-14T10:50:47.176561\n",
      "\n",
      "[20180214]\n",
      "[20180213]\n",
      "20180213 000301.XSHE 东方市场\n",
      "20180213 000528.XSHE 柳工\n",
      "20180213 002153.XSHE 石基信息\n",
      "20180213 002336.XSHE 人人乐\n",
      "20180213 002376.XSHE 新北洋\n",
      "20180213 002460.XSHE 赣锋锂业\n",
      "20180213 002588.XSHE 史丹利\n",
      "20180213 002644.XSHE 佛慈制药\n",
      "20180213 002727.XSHE 一心堂\n"
     ]
    }
   ],
   "source": [
    "%%cython\n",
    "cdef int add(int x, int y):\n",
    "    return x + y\n",
    "\n",
    "#CCI选股！\n",
    "#from matplotlib import rcParams\n",
    "#import matplotlib.pyplot as plt\n",
    "#import numpy as np\n",
    "#np.seterr(all='ignore')\n",
    "#rcParams['figure.figsize'] = (14, 6)\n",
    "from cython import *  #cython 计算加速模块\n",
    "from funcat import * #FUNCAT的同花顺/通达信指标模块：和：&，或：|，其他基本相同。可以使用指标选股！！！\n",
    "from tushare import * #TUSHARE数据连接更新。\n",
    "from rqalpha import * #RQALPHA本地数据连接，通过 rqalpha update_bundle 8点后更新全部数据库\n",
    "\n",
    "#from pytdx import * #通达信数据更新模块到QUANTAXIS的mongoDB\n",
    "#from jaqs import * #QunatOS的jaqs客户端在线。\n",
    "#from abupy import * #ABUPY本地化，数据在线下载更新，数据在线下载在根目录abu下\n",
    "#from quantaxis import * #加载QUANTAXIS数据库模块，首先需要开启mongoDB+web服务器，数据更新通过通达信服务器。\n",
    "#from hikyuu import * #HIKYUU本地化，数据库在根目录的stock。通过通达信导入。\n",
    "\n",
    "import time\n",
    "import datetime #读取/设定数据库时间区域，当前股票，选股时间段。 \n",
    "\n",
    "n1 = (time.strftime(\"20%y-%m-%d\"))## 20yy-mm-dd格式，输出当日日期\n",
    "print (\"《设定测试》读取当日时间格式：n1\",n1) #当日时间格式：yyyy-mm-dd\n",
    "n2 = (time.strftime(\"20%y%m%d\"))## 20yymmdd格式，输出当日日期\n",
    "print (\"《设定测试》读取当日时间格式：n2\",n2) #当日时间格式：yyyymmdd\n",
    "def getYesterday(): \n",
    "    today=datetime.date.today() \n",
    "    oneday=datetime.timedelta(days=10) \n",
    "    yesterday=today-oneday  \n",
    "    return yesterday\n",
    "n3 = (getYesterday())# 输出前二天日期\n",
    "print (\"《设定测试》读取前二日时间格式：n3\",n3) #前日时间格式：yyyy-mm-dd\n",
    "i = datetime.datetime.now()#当前日期\n",
    "\n",
    "n4 = (\"%s%s%s\" % (i.year, i.month, i.day) )\n",
    "print (\"《设定测试》读取当日时间格式：n4\",n4) #当日时间格式：yyyymmdd\n",
    "\n",
    "n5 = (\"%s\" % i.isoformat() )\n",
    "print (\"《设定测试》读取当日时间格式：n5\",n5) #当日时间格式：yyyy-mm-dd:...\n",
    "\n",
    "n8=\"20180201\"#开始时间\n",
    "print (\"《设定测试》手动设定选股开始时间格式：n8\",n8)\n",
    "\n",
    "n9=\"20180209\"#结束时间\n",
    "print (\"《设定测试》手动设定选股结束时间格式：n9\",n9)\n",
    "\n",
    "def getYesterday(): \n",
    "    today=datetime.date.today() \n",
    "    oneday=datetime.timedelta(days=200) \n",
    "    yesterday=today-oneday  \n",
    "    return yesterday\n",
    "n10 = (getYesterday())# 输出前200天日期\n",
    "#n10=\"20170101\"#设定起始时间\n",
    "print (\"《设定测试》自动设定数据起始设定前推200天：n10\",n10)\n",
    "\n",
    "x1=\"000001.XSHG\" #用rqalpha本地数据需要代码后缀！！！！XSHE=深圳，XSHG=上海\n",
    "print (\"《设定测试》设定股票代码\",x1)\n",
    "\n",
    "from funcat.data.tushare_backend import TushareDataBackend\n",
    "from funcat.data.rqalpha_data_backend import RQAlphaDataBackend\n",
    "backend = \"rqalpha\"  #设定数据库连接：rqalpha   tushare\n",
    "if backend == \"rqalpha\":\n",
    "    set_data_backend(RQAlphaDataBackend(\"~/.rqalpha/bundle\"))\n",
    "elif backend == \"tushare\":\n",
    "    set_data_backend(TushareDataBackend())\n",
    "set_start_date(n10)\n",
    "\n",
    "S(x1)  # 设置当前关注股票\n",
    "T(n9)   # 设置当前观察日期\n",
    "\n",
    "print (\"《数据测试》打印 开盘 最高 最低 收盘 成交量\",O, H, L, C, V)  # 打印 Open High Low Close\n",
    "print (\"《数据测试》当天涨幅\",C / C[1] - 1)  # 当天涨幅\n",
    "print (\"《数据测试》打印60日均线\",MA(C, 60))  # 打印60日均线\n",
    "print (\"《数据测试》判断收盘价是否大于60日均线\",C > MA(C, 60))  # 判断收盘价是否大于60日均线\n",
    "print (\"《数据测试》30日最高价\",HHV(H, 30))  # 30日最高价\n",
    "print (\"《数据测试》最近30日，收盘价 Close 大于60日均线的天数\",COUNT(C > MA(C, 60), 30))  # 最近30日，收盘价 Close 大于60日均线的天数\n",
    "print (\"《数据测试》10日均线上穿\",CROSS(MA(C, 10), MA(C, 20)))  # 10日均线上穿\n",
    "print (\"《数据测试》最近10天收阳线的天数\",COUNT(C > O, 10))  # 最近10天收阳线的天数\n",
    "print (\"《数据测试》最近60天K线实体的最高价\",HHV(MAX(O, C), 60))  # 最近60天K线实体的最高价\n",
    "print (\"《数据测试》5日均线上穿10日均线\",CROSS(MA(C, 5), MA(C, 10)))  # 5日均线上穿10日均线\n",
    "\n",
    "#CCI指标 方差函数模块\n",
    "\n",
    "\n",
    "'''\n",
    "def AVEDEV(value,N):\n",
    "    mean = value/N\n",
    "    for i in range(1,N):\n",
    "        mean += REF(value,i)/N\n",
    "    sum_ = ABS(value-mean)\n",
    "    for i in range(1,N):\n",
    "        sum_ += ABS(REF(value,i)-mean)\n",
    "    return sum_/N\n",
    "\n",
    "def AVEDEV(value,N):\n",
    "    mean = value/N\n",
    "    for i in range(1,N):\n",
    "        mean += REF(value,i)/N\n",
    "    sum_ = ABS(value-mean)\n",
    "    for i in range(1,N):\n",
    "        sum_ += ABS(REF(value,i)-mean)\n",
    "    return sum_/N\n",
    "'''\n",
    "print (\"《RQALPHA本地化开始CCI选股》读取开始时间：==》n5\",n5) \n",
    "# 选股CCI  OK!!!\n",
    "\n",
    "\n",
    "select(\n",
    "    lambda : CROSS(((((H+L+C)/3)-MA(((H+L+C)/3),14))/(0.015*AVEDEV(((H+L+C)/3),14))) or ((((((((H+L+C)/3)-MA(((H+L+C)/3),14))/(0.015*AVEDEV(((H+L+C)/3),14)))+((V-MA(V,14))/(0.015*AVEDEV(V,14))))-MA((((((H+L+C)/3)-MA(((H+L+C)/3),14))/(0.015*AVEDEV(((H+L+C)/3),14)))+((V-MA(V,14))/(0.015*AVEDEV(V,14)))),14))/(0.015*AVEDEV((((((H+L+C)/3)-MA(((H+L+C)/3),14))/(0.015*AVEDEV(((H+L+C)/3),14)))+((V-MA(V,14))/(0.015*AVEDEV(V,14)))),14))))\n",
    "\n",
    ",101 or -101),\n",
    "    start_date=(n3), end_date=(n2),)\n",
    "\n",
    "print (\"《结束选股》读取结束时间：==》n5\",n5) "
   ]
  },
  {
   "cell_type": "code",
   "execution_count": null,
   "metadata": {
    "collapsed": true
   },
   "outputs": [],
   "source": [
    "import cython\n",
    "cython.__version__"
   ]
  },
  {
   "cell_type": "code",
   "execution_count": null,
   "metadata": {
    "collapsed": true
   },
   "outputs": [],
   "source": [
    "from cython import * "
   ]
  },
  {
   "cell_type": "code",
   "execution_count": null,
   "metadata": {
    "collapsed": true
   },
   "outputs": [],
   "source": []
  }
 ],
 "metadata": {
  "kernelspec": {
   "display_name": "Python 3",
   "language": "python",
   "name": "python3"
  },
  "language_info": {
   "codemirror_mode": {
    "name": "ipython",
    "version": 3
   },
   "file_extension": ".py",
   "mimetype": "text/x-python",
   "name": "python",
   "nbconvert_exporter": "python",
   "pygments_lexer": "ipython3",
   "version": "3.5.4"
  }
 },
 "nbformat": 4,
 "nbformat_minor": 2
}
