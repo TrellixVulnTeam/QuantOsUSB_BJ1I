{
 "cells": [
  {
   "cell_type": "code",
   "execution_count": 1,
   "metadata": {},
   "outputs": [
    {
     "name": "stderr",
     "output_type": "stream",
     "text": [
      "/Users/zy/anaconda3/envs/ths-27/lib/python2.7/site-packages/matplotlib/cbook/deprecation.py:106: MatplotlibDeprecationWarning: The finance module has been deprecated in mpl 2.0 and will be removed in mpl 2.2. Please use the module mpl_finance instead.\n",
      "  warnings.warn(message, mplDeprecation, stacklevel=1)\n"
     ]
    },
    {
     "ename": "KeyError",
     "evalue": "'BB'",
     "output_type": "error",
     "traceback": [
      "\u001b[0;31m---------------------------------------------------------------------------\u001b[0m",
      "\u001b[0;31mKeyError\u001b[0m                                  Traceback (most recent call last)",
      "\u001b[0;32m<ipython-input-1-3a8c68179a16>\u001b[0m in \u001b[0;36m<module>\u001b[0;34m()\u001b[0m\n\u001b[1;32m     50\u001b[0m \u001b[0;34m\u001b[0m\u001b[0m\n\u001b[1;32m     51\u001b[0m \u001b[0;32mif\u001b[0m \u001b[0m__name__\u001b[0m \u001b[0;34m==\u001b[0m \u001b[0;34m'__main__'\u001b[0m\u001b[0;34m:\u001b[0m\u001b[0;34m\u001b[0m\u001b[0m\n\u001b[0;32m---> 52\u001b[0;31m     \u001b[0mset_symbols\u001b[0m\u001b[0;34m(\u001b[0m\u001b[0;34m[\u001b[0m\u001b[0;34m'BB.SHFE-1.Minute'\u001b[0m\u001b[0;34m]\u001b[0m\u001b[0;34m,\u001b[0m \u001b[0;36m0\u001b[0m\u001b[0;34m)\u001b[0m\u001b[0;34m\u001b[0m\u001b[0m\n\u001b[0m\u001b[1;32m     53\u001b[0m     \u001b[0;31m# 创建组合策略\u001b[0m\u001b[0;34m\u001b[0m\u001b[0;34m\u001b[0m\u001b[0m\n\u001b[1;32m     54\u001b[0m     \u001b[0;31m# 初始资金5000， 两个策略的资金配比为0.2:0.8\u001b[0m\u001b[0;34m\u001b[0m\u001b[0;34m\u001b[0m\u001b[0m\n",
      "\u001b[0;32m/Users/zy/anaconda3/envs/ths-27/lib/python2.7/site-packages/quantdigger/engine/qd.pyc\u001b[0m in \u001b[0;36mset_symbols\u001b[0;34m(pcontracts, dt_start, dt_end, n, spec_date)\u001b[0m\n\u001b[1;32m     17\u001b[0m     \"\"\"\n\u001b[1;32m     18\u001b[0m     \u001b[0;32mglobal\u001b[0m \u001b[0m_simulator\u001b[0m\u001b[0;34m\u001b[0m\u001b[0m\n\u001b[0;32m---> 19\u001b[0;31m     \u001b[0m_simulator\u001b[0m \u001b[0;34m=\u001b[0m \u001b[0mExecuteUnit\u001b[0m\u001b[0;34m(\u001b[0m\u001b[0mpcontracts\u001b[0m\u001b[0;34m,\u001b[0m \u001b[0mdt_start\u001b[0m\u001b[0;34m,\u001b[0m \u001b[0mdt_end\u001b[0m\u001b[0;34m,\u001b[0m \u001b[0mn\u001b[0m\u001b[0;34m,\u001b[0m \u001b[0mspec_date\u001b[0m\u001b[0;34m)\u001b[0m\u001b[0;34m\u001b[0m\u001b[0m\n\u001b[0m\u001b[1;32m     20\u001b[0m     \u001b[0;32mreturn\u001b[0m \u001b[0m_simulator\u001b[0m\u001b[0;34m\u001b[0m\u001b[0m\n\u001b[1;32m     21\u001b[0m \u001b[0;34m\u001b[0m\u001b[0m\n",
      "\u001b[0;32m/Users/zy/anaconda3/envs/ths-27/lib/python2.7/site-packages/quantdigger/engine/execute_unit.pyc\u001b[0m in \u001b[0;36m__init__\u001b[0;34m(self, pcontracts, dt_start, dt_end, n, spec_date)\u001b[0m\n\u001b[1;32m     31\u001b[0m         \u001b[0mself\u001b[0m\u001b[0;34m.\u001b[0m\u001b[0m_data_manager\u001b[0m \u001b[0;34m=\u001b[0m \u001b[0mDataManager\u001b[0m\u001b[0;34m(\u001b[0m\u001b[0;34m)\u001b[0m\u001b[0;34m\u001b[0m\u001b[0m\n\u001b[1;32m     32\u001b[0m         \u001b[0;31m# str(PContract): DataWrapper\u001b[0m\u001b[0;34m\u001b[0m\u001b[0;34m\u001b[0m\u001b[0m\n\u001b[0;32m---> 33\u001b[0;31m         \u001b[0mself\u001b[0m\u001b[0;34m.\u001b[0m\u001b[0mpcontracts\u001b[0m \u001b[0;34m=\u001b[0m \u001b[0mself\u001b[0m\u001b[0;34m.\u001b[0m\u001b[0m_parse_pcontracts\u001b[0m\u001b[0;34m(\u001b[0m\u001b[0mself\u001b[0m\u001b[0;34m.\u001b[0m\u001b[0mpcontracts\u001b[0m\u001b[0;34m)\u001b[0m\u001b[0;34m\u001b[0m\u001b[0m\n\u001b[0m\u001b[1;32m     34\u001b[0m         self._all_data, self._max_window = self._load_data(self.pcontracts,\n\u001b[1;32m     35\u001b[0m                                                             \u001b[0mdt_start\u001b[0m\u001b[0;34m,\u001b[0m\u001b[0;34m\u001b[0m\u001b[0m\n",
      "\u001b[0;32m/Users/zy/anaconda3/envs/ths-27/lib/python2.7/site-packages/quantdigger/engine/execute_unit.pyc\u001b[0m in \u001b[0;36m_parse_pcontracts\u001b[0;34m(self, pcontracts)\u001b[0m\n\u001b[1;32m     71\u001b[0m             \u001b[0;32melse\u001b[0m\u001b[0;34m:\u001b[0m\u001b[0;34m\u001b[0m\u001b[0m\n\u001b[1;32m     72\u001b[0m                 \u001b[0;32mtry\u001b[0m\u001b[0;34m:\u001b[0m\u001b[0;34m\u001b[0m\u001b[0m\n\u001b[0;32m---> 73\u001b[0;31m                     \u001b[0mpcons\u001b[0m \u001b[0;34m=\u001b[0m \u001b[0mcode2strpcon\u001b[0m\u001b[0;34m[\u001b[0m\u001b[0mcode\u001b[0m\u001b[0;34m]\u001b[0m\u001b[0;34m\u001b[0m\u001b[0m\n\u001b[0m\u001b[1;32m     74\u001b[0m                 \u001b[0;32mexcept\u001b[0m \u001b[0mIndexError\u001b[0m\u001b[0;34m:\u001b[0m\u001b[0;34m\u001b[0m\u001b[0m\n\u001b[1;32m     75\u001b[0m                     \u001b[0;32mraise\u001b[0m \u001b[0mIndexError\u001b[0m \u001b[0;31m# 本地不含该文件\u001b[0m\u001b[0;34m\u001b[0m\u001b[0m\n",
      "\u001b[0;31mKeyError\u001b[0m: 'BB'"
     ]
    }
   ],
   "source": [
    "#from quantdigger.engine.series import NumberSeries\n",
    "#from quantdigger.indicators.common import MA\n",
    "#from quantdigger.util import  pcontract\n",
    "from quantdigger import *\n",
    "import six\n",
    "\n",
    "class DemoStrategy(Strategy):\n",
    "    \"\"\" 策略A1 \"\"\"\n",
    "\n",
    "    def on_init(self, ctx):\n",
    "        \"\"\"初始化数据\"\"\"\n",
    "        ctx.ma10 = MA(ctx.close, 10, 'ma10', 'y', 2)\n",
    "        ctx.ma20 = MA(ctx.close, 20, 'ma20', 'b', 2)\n",
    "\n",
    "    def on_symbol(self, ctx):\n",
    "        \"\"\"  选股 \"\"\"\n",
    "        return\n",
    "\n",
    "    def on_bar(self, ctx):\n",
    "        if ctx.curbar > 20:\n",
    "            if ctx.ma10[2] < ctx.ma20[2] and ctx.ma10[1] > ctx.ma20[1]:\n",
    "                ctx.buy(ctx.close, 1)\n",
    "            elif ctx.pos() > 0 and ctx.ma10[2] > ctx.ma20[2] and \\\n",
    "                 ctx.ma10[1] < ctx.ma20[1]:\n",
    "                ctx.sell(ctx.close, ctx.pos())\n",
    "\n",
    "    def on_exit(self, ctx):\n",
    "        return\n",
    "\n",
    "class DemoStrategy2(Strategy):\n",
    "    \"\"\" 策略A2 \"\"\"\n",
    "\n",
    "    def on_init(self, ctx):\n",
    "        \"\"\"初始化数据\"\"\"\n",
    "        ctx.ma5 = MA(ctx.close, 5, 'ma5', 'y', 2)\n",
    "        ctx.ma10 = MA(ctx.close, 10, 'ma10', 'black', 2)\n",
    "\n",
    "    def on_symbol(self, ctx):\n",
    "        \"\"\"  选股 \"\"\"\n",
    "        return\n",
    "\n",
    "    def on_bar(self, ctx):\n",
    "        if ctx.curbar > 10:\n",
    "            if ctx.ma5[2] < ctx.ma10[2] and ctx.ma5[1] > ctx.ma10[1]:\n",
    "                ctx.buy(ctx.close, 1)\n",
    "            elif ctx.pos() > 0 and ctx.ma5[2] > ctx.ma10[2] and \\\n",
    "                 ctx.ma5[1] < ctx.ma10[1]:\n",
    "                ctx.sell(ctx.close, ctx.pos())\n",
    "\n",
    "    def on_exit(self, ctx):\n",
    "        return\n",
    "\n",
    "if __name__ == '__main__':\n",
    "    set_symbols(['BB.SHFE-1.Minute'], 0)\n",
    "    # 创建组合策略\n",
    "    # 初始资金5000， 两个策略的资金配比为0.2:0.8\n",
    "    profile = add_strategy([DemoStrategy('A1'), DemoStrategy2('A2')], { 'captial': 5000,\n",
    "                              'ratio': [0.2, 0.8] })\n",
    "    run()\n",
    "\n",
    "    # 绘制k线，交易信号线\n",
    "    from quantdigger.digger import finance, plotting\n",
    "    plotting.plot_strategy(profile.data(0), profile.indicators(1), profile.deals(1))\n",
    "    # 绘制策略A1, 策略A2, 组合的资金曲线\n",
    "    curve0 = finance.create_equity_curve(profile.all_holdings(0))\n",
    "    curve1 = finance.create_equity_curve(profile.all_holdings(1))\n",
    "    curve = finance.create_equity_curve(profile.all_holdings())\n",
    "    plotting.plot_curves([curve0.equity, curve1.equity, curve.equity],\n",
    "                        colors=['r', 'g', 'b'],\n",
    "                        names=[profile.name(0), profile.name(1), 'A0'])\n",
    "    # 绘制净值曲线\n",
    "    plotting.plot_curves([curve.networth])\n",
    "    # 打印统计信息\n",
    "    six.print_(finance.summary_stats(curve, 252*4*60))"
   ]
  },
  {
   "cell_type": "code",
   "execution_count": null,
   "metadata": {},
   "outputs": [],
   "source": []
  }
 ],
 "metadata": {
  "kernelspec": {
   "display_name": "Python 3",
   "language": "python",
   "name": "python3"
  },
  "language_info": {
   "codemirror_mode": {
    "name": "ipython",
    "version": 2
   },
   "file_extension": ".py",
   "mimetype": "text/x-python",
   "name": "python",
   "nbconvert_exporter": "python",
   "pygments_lexer": "ipython2",
   "version": "2.7.13"
  }
 },
 "nbformat": 4,
 "nbformat_minor": 2
}
