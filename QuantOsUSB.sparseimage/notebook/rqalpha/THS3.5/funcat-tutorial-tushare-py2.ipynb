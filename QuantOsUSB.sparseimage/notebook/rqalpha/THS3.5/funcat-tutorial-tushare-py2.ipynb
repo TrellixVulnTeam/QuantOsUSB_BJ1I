{
 "cells": [
  {
   "cell_type": "code",
   "execution_count": 1,
   "metadata": {
    "collapsed": true
   },
   "outputs": [],
   "source": [
    "from matplotlib import rcParams\n",
    "import matplotlib.pyplot as plt\n",
    "import numpy as np\n",
    "\n",
    "np.seterr(all='ignore')\n",
    "rcParams['figure.figsize'] = (14, 6)"
   ]
  },
  {
   "cell_type": "code",
   "execution_count": 2,
   "metadata": {
    "collapsed": true
   },
   "outputs": [],
   "source": [
    "from funcat import *"
   ]
  },
  {
   "cell_type": "code",
   "execution_count": 3,
   "metadata": {},
   "outputs": [
    {
     "name": "stdout",
     "output_type": "stream",
     "text": [
      "读取当日时间格式n1 2018-01-31\n",
      "读取当日时间格式n2 20180131\n",
      "读取前一日时间格式n3 2018-01-30\n",
      "手动设定选股开始时间格式n8 20180130\n",
      "手动设定选股结束时间格式n9 20180130\n",
      "手动设定数据更新设定起始时间格式n10 20170101\n"
     ]
    }
   ],
   "source": [
    "import time\n",
    "import datetime\n",
    "n1 = (time.strftime(\"20%y-%m-%d\"))\n",
    "n2 = (time.strftime(\"20%y%m%d\"))\n",
    "#print (time.strftime(\"20%y-%m-%d\")) ## dd/mm/yyyy格式，输出当日日期\n",
    "#print (time.strftime(\"20%y%m%d\"))\n",
    "def getYesterday(): \n",
    "    today=datetime.date.today() \n",
    "    oneday=datetime.timedelta(days=1) \n",
    "    yesterday=today-oneday  \n",
    "    return yesterday\n",
    "n3 = (getYesterday())\n",
    "#print(getYesterday())# 输出前一天日期\n",
    "i = datetime.datetime.now()\n",
    "#print (\"%s\" % i)\n",
    "#print (\"%s\" % i.isoformat() )\n",
    "#print (\"%s%s%s\" % (i.year, i.month, i.day) )\n",
    "n4 = (\"%s%s%s\" % (i.year, i.month, i.day) )\n",
    "n5 = (\"%s\" % i.isoformat() )\n",
    "print (\"读取当日时间格式n1\",n1) #当日时间格式：yyyy-mm-dd\n",
    "print (\"读取当日时间格式n2\",n2) #当日时间格式：yyyymmdd\n",
    "print (\"读取前一日时间格式n3\",n3) #前日时间格式：yyyy-mm-dd\n",
    "#print (\"读取当日时间格式n4\",n4) #当日时间格式：yyyymmdd\n",
    "#print (\"读取当日时间格式n5\",n5) #当日时间格式：yyyy-mm-dd:...\n",
    "\n",
    "n8=\"20180130\"#开始时间\n",
    "\n",
    "print (\"手动设定选股开始时间格式n8\",n8)\n",
    "\n",
    "n9=\"20180130\"#结束时间\n",
    "\n",
    "print (\"手动设定选股结束时间格式n9\",n9)\n",
    "\n",
    "n10=\"20170101\"#设定起始时间\n",
    "\n",
    "print (\"手动设定数据更新设定起始时间格式n10\",n10)"
   ]
  },
  {
   "cell_type": "code",
   "execution_count": 4,
   "metadata": {
    "collapsed": true
   },
   "outputs": [],
   "source": [
    "from funcat.data.tushare_backend import TushareDataBackend\n",
    "from funcat.data.rqalpha_data_backend import RQAlphaDataBackend\n",
    "\n",
    "backend = \"tushare\"\n",
    "\n",
    "if backend == \"rqalpha\":\n",
    "    set_data_backend(RQAlphaDataBackend(\"~/.rqalpha/bundle\"))\n",
    "elif backend == \"tushare\":\n",
    "    set_data_backend(TushareDataBackend())\n",
    "\n",
    "set_start_date(n10)#数据同步起始日\n",
    "S(\"000001.XSHG\")  # 设置当前关注股票\n",
    "T(n9) # 设置当前观察日期\n"
   ]
  },
  {
   "cell_type": "markdown",
   "metadata": {},
   "source": [
    "## 基本API"
   ]
  },
  {
   "cell_type": "code",
   "execution_count": 5,
   "metadata": {},
   "outputs": [
    {
     "name": "stdout",
     "output_type": "stream",
     "text": [
      "3511.5 3523.05 3484.66 3488.01 186369975.0\n"
     ]
    }
   ],
   "source": [
    "print(O, H, L, C, V)  # 打印 Open High Low Close"
   ]
  },
  {
   "cell_type": "code",
   "execution_count": 6,
   "metadata": {},
   "outputs": [
    {
     "data": {
      "text/plain": [
       "-0.009931876241839332"
      ]
     },
     "execution_count": 6,
     "metadata": {},
     "output_type": "execute_result"
    }
   ],
   "source": [
    "C / C[1] - 1  # 当天涨幅"
   ]
  },
  {
   "cell_type": "code",
   "execution_count": 7,
   "metadata": {},
   "outputs": [
    {
     "data": {
      "text/plain": [
       "3379.029666666665"
      ]
     },
     "execution_count": 7,
     "metadata": {},
     "output_type": "execute_result"
    }
   ],
   "source": [
    "MA(C, 60)  # 打印60日均线"
   ]
  },
  {
   "cell_type": "code",
   "execution_count": 8,
   "metadata": {},
   "outputs": [
    {
     "data": {
      "text/plain": [
       "True"
      ]
     },
     "execution_count": 8,
     "metadata": {},
     "output_type": "execute_result"
    }
   ],
   "source": [
    "C > MA(C, 60)  # 判断收盘价是否大于60日均线"
   ]
  },
  {
   "cell_type": "code",
   "execution_count": 9,
   "metadata": {},
   "outputs": [
    {
     "data": {
      "text/plain": [
       "3587.03"
      ]
     },
     "execution_count": 9,
     "metadata": {},
     "output_type": "execute_result"
    }
   ],
   "source": [
    "HHV(H, 30)  # 30日最高价"
   ]
  },
  {
   "cell_type": "code",
   "execution_count": 10,
   "metadata": {},
   "outputs": [
    {
     "data": {
      "text/plain": [
       "20"
      ]
     },
     "execution_count": 10,
     "metadata": {},
     "output_type": "execute_result"
    }
   ],
   "source": [
    "COUNT(C > MA(C, 60), 30)  # 最近30日，收盘价 Close 大于60日均线的天数"
   ]
  },
  {
   "cell_type": "code",
   "execution_count": 11,
   "metadata": {},
   "outputs": [
    {
     "data": {
      "text/plain": [
       "False"
      ]
     },
     "execution_count": 11,
     "metadata": {},
     "output_type": "execute_result"
    }
   ],
   "source": [
    "CROSS(MA(C, 10), MA(C, 20))  # 10日均线上穿"
   ]
  },
  {
   "cell_type": "code",
   "execution_count": 12,
   "metadata": {},
   "outputs": [
    {
     "data": {
      "text/plain": [
       "7"
      ]
     },
     "execution_count": 12,
     "metadata": {},
     "output_type": "execute_result"
    }
   ],
   "source": [
    "COUNT(C > O, 10)  # 最近10天收阳线的天数"
   ]
  },
  {
   "cell_type": "code",
   "execution_count": 13,
   "metadata": {},
   "outputs": [
    {
     "data": {
      "text/plain": [
       "3563.64"
      ]
     },
     "execution_count": 13,
     "metadata": {},
     "output_type": "execute_result"
    }
   ],
   "source": [
    "HHV(MAX(O, C), 60)  # 最近60天K线实体的最高价"
   ]
  },
  {
   "cell_type": "code",
   "execution_count": 14,
   "metadata": {},
   "outputs": [
    {
     "data": {
      "text/plain": [
       "False"
      ]
     },
     "execution_count": 14,
     "metadata": {},
     "output_type": "execute_result"
    }
   ],
   "source": [
    "CROSS(MA(C, 5), MA(C, 10))  # 5日均线上穿10日均线"
   ]
  },
  {
   "cell_type": "markdown",
   "metadata": {},
   "source": [
    "## 自定义公式"
   ]
  },
  {
   "cell_type": "markdown",
   "metadata": {},
   "source": [
    "### 0x01 KDJ指标"
   ]
  },
  {
   "cell_type": "code",
   "execution_count": 15,
   "metadata": {},
   "outputs": [
    {
     "name": "stdout",
     "output_type": "stream",
     "text": [
      "84.70517755686883 85.17444544261426 83.766641785378\n"
     ]
    },
    {
     "data": {
      "text/plain": [
       "<matplotlib.legend.Legend at 0x10b79f4a8>"
      ]
     },
     "execution_count": 15,
     "metadata": {},
     "output_type": "execute_result"
    }
   ],
   "source": [
    "N, M1, M2 = 27, 9, 3\n",
    "\n",
    "RSV = (CLOSE - LLV(LOW, N)) / (HHV(HIGH, N) - LLV(LOW, N)) * 100\n",
    "K = EMA(RSV, (M1 * 2 - 1))\n",
    "D = EMA(K, (M2 * 2 - 1))\n",
    "J = K * 3 - D * 2\n",
    "\n",
    "ax = plt.subplot()\n",
    "\n",
    "plt.plot(K.series, label=\"K\", linewidth=2)\n",
    "plt.plot(D.series, label=\"D\", alpha=0.7)\n",
    "plt.plot(J.series, label=\"J\", alpha=0.7)\n",
    "\n",
    "print(K, D, J)\n",
    "plt.legend(loc=\"best\")"
   ]
  },
  {
   "cell_type": "markdown",
   "metadata": {},
   "source": [
    "### 0x02 均线金叉死叉"
   ]
  },
  {
   "cell_type": "code",
   "execution_count": 16,
   "metadata": {},
   "outputs": [
    {
     "name": "stderr",
     "output_type": "stream",
     "text": [
      "/Users/zy/anaconda3/envs/funcat/lib/python3.6/site-packages/matplotlib/cbook/deprecation.py:106: MatplotlibDeprecationWarning: Adding an axes using the same arguments as a previous axes currently reuses the earlier instance.  In a future version, a new instance will always be created and returned.  Meanwhile, this warning can be suppressed, and the future behavior ensured, by passing a unique label to each axes instance.\n",
      "  warnings.warn(message, mplDeprecation, stacklevel=1)\n"
     ]
    },
    {
     "data": {
      "text/plain": [
       "<matplotlib.legend.Legend at 0x10b7c1d68>"
      ]
     },
     "execution_count": 16,
     "metadata": {},
     "output_type": "execute_result"
    }
   ],
   "source": [
    "ax = plt.subplot()\n",
    "\n",
    "ma10 = MA(C, 10)\n",
    "ma30 = MA(C, 30)\n",
    "buy_signal = CROSS(ma10, ma30)\n",
    "sell_signal = CROSS(ma30, ma10)\n",
    "\n",
    "plt.plot(C.series, label=\"close\", linewidth=2)\n",
    "plt.plot(ma10.series, label=\"ma10\", alpha=0.7)\n",
    "plt.plot(ma30.series, label=\"ma30\", alpha=0.7)\n",
    "\n",
    "plt.plot(np.where(buy_signal.series)[0], C.series[np.where(buy_signal.series)[0]], \"^\", label=\"buy\", markersize=12, color=\"red\")\n",
    "plt.plot(np.where(sell_signal.series)[0], C.series[np.where(sell_signal.series)[0]], \"v\", label=\"sell\", markersize=12, color=\"green\")\n",
    "plt.legend(loc=\"best\")"
   ]
  },
  {
   "cell_type": "markdown",
   "metadata": {},
   "source": [
    "### 0x03 DMA指标（Different of Moving Average）\n",
    "[DMA指标](http://wiki.mbalib.com/wiki/DMA)。DMA指标（Different of Moving Average）又叫平行线差指标，是目前股市分析技术指标中的一种中短期指标，它常用于大盘指数和个股的研判。"
   ]
  },
  {
   "cell_type": "code",
   "execution_count": null,
   "metadata": {},
   "outputs": [
    {
     "name": "stdout",
     "output_type": "stream",
     "text": [
      "141.2496000000001 104.2402000000001\n"
     ]
    },
    {
     "data": {
      "text/plain": [
       "<matplotlib.legend.Legend at 0x10b8304a8>"
      ]
     },
     "execution_count": 17,
     "metadata": {},
     "output_type": "execute_result"
    }
   ],
   "source": [
    "M1 = 10\n",
    "M2 = 50\n",
    "M3 = 10\n",
    "\n",
    "DDD = MA(CLOSE, M1) - MA(CLOSE, M2)\n",
    "AMA = MA(DDD, M3)\n",
    "\n",
    "print(DDD, AMA)\n",
    "\n",
    "f, (ax1, ax2) = plt.subplots(2, 1)\n",
    "\n",
    "ax1.plot(C.series, label=\"close\")\n",
    "ax1.plot(MA(C, 30).series, label=\"ma60\")\n",
    "ax1.set_xlim(50)\n",
    "\n",
    "ax2.plot(DDD.series, label=\"DDD\")\n",
    "ax2.plot(AMA.series, label=\"AMA\")\n",
    "ax2.set_xlim(50)\n",
    "\n",
    "plt.legend(loc=\"best\")"
   ]
  },
  {
   "cell_type": "markdown",
   "metadata": {},
   "source": [
    "## 选股"
   ]
  },
  {
   "cell_type": "code",
   "execution_count": null,
   "metadata": {},
   "outputs": [
    {
     "name": "stdout",
     "output_type": "stream",
     "text": [
      "lambda : C / C[1] - 1 >= 0.0995,\n",
      "[20180130]\n",
      "20180130 000505.XSHE 000505.XSHE[珠江控股]\n",
      "20180130 000836.XSHE 000836.XSHE[鑫茂科技]\n",
      "20180130 002016.XSHE 002016.XSHE[世荣兆业]\n",
      "20180130 002192.XSHE 002192.XSHE[融捷股份]\n",
      "20180130 002229.XSHE 002229.XSHE[鸿博股份]\n",
      "20180130 002329.XSHE 002329.XSHE[皇氏集团]\n",
      "20180130 002544.XSHE 002544.XSHE[杰赛科技]\n",
      "20180130 002696.XSHE 002696.XSHE[百洋股份]\n",
      "20180130 002805.XSHE 002805.XSHE[丰元股份]\n",
      "20180130 002925.XSHE 002925.XSHE[盈趣科技]\n",
      "20180130 600158.XSHG 600158.XSHG[中体产业]\n",
      "20180130 600238.XSHG 600238.XSHG[海南椰岛]\n",
      "20180130 600506.XSHG 600506.XSHG[香梨股份]\n",
      "20180130 600821.XSHG 600821.XSHG[津劝业]\n",
      "20180130 600838.XSHG 600838.XSHG[上海九百]\n"
     ]
    }
   ],
   "source": [
    "# 选出涨停股\n",
    "select(\n",
    "    lambda : C / C[1] - 1 >= 0.0995,\n",
    "    start_date=(n8),\n",
    "\tend_date=(n9),\n",
    ")"
   ]
  },
  {
   "cell_type": "code",
   "execution_count": null,
   "metadata": {},
   "outputs": [],
   "source": [
    "# 选出最近30天K线实体最高价最低价差7%以内，最近100天K线实体最高价最低价差25%以内，\n",
    "# 最近10天，收盘价大于60日均线的天数大于3天\n",
    "select(\n",
    "    lambda : ((HHV(MAX(C, O), 30) / LLV(MIN(C, O), 30) - 1 < 0.07)\n",
    "              & (HHV(MAX(C, O), 100) / LLV(MIN(C, O), 100) - 1 > 0.25)\n",
    "              & (COUNT(C > MA(C, 60), 10) > 3)\n",
    "             ),\n",
    "    start_date=(n8),\n",
    "\tend_date=(n9),\n",
    ")"
   ]
  },
  {
   "cell_type": "code",
   "execution_count": null,
   "metadata": {},
   "outputs": [],
   "source": [
    "# 选出最近3天每天的成交量小于20日成交量均线，最近3天最低价低于20日均线，最高价高于20日均线\n",
    "# 自定义选股回调函数\n",
    "def callback(date, order_book_id, symbol):\n",
    "    print(\"Cool, 在\", date, \"选出\", order_book_id, symbol)\n",
    "\n",
    "    \n",
    "select(\n",
    "    lambda : (EVERY(V < MA(V, 20) / 2, 3) & EVERY(L < MA(C, 20), 3) & EVERY(H > MA(C, 20), 3)),\n",
    "    start_date=(n8),\n",
    "\tend_date=(n9),\n",
    "    callback=callback,\n",
    ")"
   ]
  },
  {
   "cell_type": "code",
   "execution_count": null,
   "metadata": {
    "collapsed": true
   },
   "outputs": [],
   "source": []
  }
 ],
 "metadata": {
  "anaconda-cloud": {},
  "kernelspec": {
   "display_name": "Python 2",
   "language": "python",
   "name": "python2"
  },
  "language_info": {
   "codemirror_mode": {
    "name": "ipython",
    "version": 3
   },
   "file_extension": ".py",
   "mimetype": "text/x-python",
   "name": "python",
   "nbconvert_exporter": "python",
   "pygments_lexer": "ipython3",
   "version": "3.6.2"
  }
 },
 "nbformat": 4,
 "nbformat_minor": 1
}
